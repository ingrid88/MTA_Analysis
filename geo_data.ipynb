{
 "cells": [
  {
   "cell_type": "code",
   "execution_count": null,
   "metadata": {
    "collapsed": true
   },
   "outputs": [],
   "source": [
    "from __future__ import division\n",
    "import csv\n",
    "from datetime import datetime\n",
    "from collections import Counter\n",
    "import matplotlib.pyplot as plt\n",
    "\n",
    "\n",
    "def geo_data(filename):\n",
    "    with open(filename) as f:\n",
    "        reader = csv.reader(f)\n",
    "        rows = [[cell.strip() for cell in row] for row in reader]\n",
    "\n",
    "    stations,lat,lon,CA,unit = [],[],[],[],[]\n",
    "    station_geo = dict()\n",
    "    for lines in rows:\n",
    "        CA.append(lines[1])\n",
    "        unit.append(lines[0])\n",
    "        lat.append(lines[5])\n",
    "        lon.append(lines[6])\n",
    "        stations.append(lines[2])\n",
    "        station_geo[lines[2]] = [lines[5],lines[6]]\n",
    "    geo_data = zip(stations,lat,lon,unit)\n",
    "    return geo_data\n",
    "\n",
    "def geo_df(geo_data):\n",
    "    geo_pd = pd.DataFrame(geo_data, columns=['STATION', 'LAT', 'LON','UNIT'])\n",
    "    return geo_pd\n",
    "\n",
    "def merge_data(geopd, mtapd):\n",
    "    merged_geopd = pd.merge(geopd, mtapd, how = 'outer', on=\"UNIT\")\n",
    "    return merged_geopd\n",
    "\n",
    "## PIPELINE\n",
    "res = geo_data()\n",
    "merged_geopd.drop_duplicates(subset=\"STATION_x\")"
   ]
  }
 ],
 "metadata": {
  "kernelspec": {
   "display_name": "Python 2",
   "language": "python",
   "name": "python2"
  },
  "language_info": {
   "codemirror_mode": {
    "name": "ipython",
    "version": 2
   },
   "file_extension": ".py",
   "mimetype": "text/x-python",
   "name": "python",
   "nbconvert_exporter": "python",
   "pygments_lexer": "ipython2",
   "version": "2.7.11"
  }
 },
 "nbformat": 4,
 "nbformat_minor": 0
}
