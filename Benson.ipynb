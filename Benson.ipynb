{
 "cells": [
  {
   "cell_type": "code",
   "execution_count": 4,
   "metadata": {
    "collapsed": false
   },
   "outputs": [
    {
     "name": "stdout",
     "output_type": "stream",
     "text": [
      "{('A002', 'R051', '02-03-03', '59 ST'): [733, 635, 1625, 1597, 1742, 1727, 1705], ('A002', 'R051', '02-03-06', '59 ST'): [22, 21, 29, 32, 22, 36, 25], ('A002', 'R051', '02-00-01', '59 ST'): [152, 145, 347, 373, 330, 327, 275], ('A002', 'R051', '02-03-01', '59 ST'): [1446, 1339, 2449, 2492, 2519, 2582, 2614], ('A002', 'R051', '02-03-04', '59 ST'): [395, 321, 718, 705, 845, 792, 792], ('A002', 'R051', '02-03-02', '59 ST'): [1124, 1010, 2169, 2153, 2293, 2357, 2168]}\n",
      "[[datetime.datetime(2016, 1, 2, 3, 0), 5285251], [datetime.datetime(2016, 1, 2, 7, 0), 5285287], [datetime.datetime(2016, 1, 2, 11, 0), 5285487], [datetime.datetime(2016, 1, 2, 15, 0), 5285679], [datetime.datetime(2016, 1, 2, 19, 0), 5285847], [datetime.datetime(2016, 1, 2, 23, 0), 5285955], [datetime.datetime(2016, 1, 3, 3, 0), 5285984], [datetime.datetime(2016, 1, 3, 7, 0), 5286012], [datetime.datetime(2016, 1, 3, 11, 0), 5286167], [datetime.datetime(2016, 1, 3, 15, 0), 5286312], [datetime.datetime(2016, 1, 3, 19, 0), 5286502], [datetime.datetime(2016, 1, 3, 23, 0), 5286597], [datetime.datetime(2016, 1, 4, 3, 0), 5286619], [datetime.datetime(2016, 1, 4, 7, 0), 5286775], [datetime.datetime(2016, 1, 4, 11, 0), 5287613], [datetime.datetime(2016, 1, 4, 15, 0), 5287807], [datetime.datetime(2016, 1, 4, 19, 0), 5288088], [datetime.datetime(2016, 1, 4, 23, 0), 5288233], [datetime.datetime(2016, 1, 5, 3, 0), 5288244], [datetime.datetime(2016, 1, 5, 7, 0), 5288381], [datetime.datetime(2016, 1, 5, 11, 0), 5289266], [datetime.datetime(2016, 1, 5, 15, 0), 5289443], [datetime.datetime(2016, 1, 5, 19, 0), 5289687], [datetime.datetime(2016, 1, 5, 23, 0), 5289823], [datetime.datetime(2016, 1, 6, 3, 0), 5289841], [datetime.datetime(2016, 1, 6, 7, 0), 5290023], [datetime.datetime(2016, 1, 6, 11, 0), 5290845], [datetime.datetime(2016, 1, 6, 15, 0), 5291082], [datetime.datetime(2016, 1, 6, 19, 0), 5291380], [datetime.datetime(2016, 1, 6, 23, 0), 5291567], [datetime.datetime(2016, 1, 7, 3, 0), 5291583], [datetime.datetime(2016, 1, 7, 7, 0), 5291717], [datetime.datetime(2016, 1, 7, 11, 0), 5292619], [datetime.datetime(2016, 1, 7, 15, 0), 5292827], [datetime.datetime(2016, 1, 7, 19, 0), 5293112], [datetime.datetime(2016, 1, 7, 23, 0), 5293273], [datetime.datetime(2016, 1, 8, 3, 0), 5293310], [datetime.datetime(2016, 1, 8, 7, 0), 5293469], [datetime.datetime(2016, 1, 8, 11, 0), 5294385], [datetime.datetime(2016, 1, 8, 15, 0), 5294609], [datetime.datetime(2016, 1, 8, 19, 0), 5294897], [datetime.datetime(2016, 1, 8, 23, 0), 5295015]]\n",
      "[[datetime.datetime(2016, 1, 2, 3, 0), 469277], [datetime.datetime(2016, 1, 2, 7, 0), 469278], [datetime.datetime(2016, 1, 2, 11, 0), 469285], [datetime.datetime(2016, 1, 2, 15, 0), 469290], [datetime.datetime(2016, 1, 2, 19, 0), 469297], [datetime.datetime(2016, 1, 2, 23, 0), 469298], [datetime.datetime(2016, 1, 3, 3, 0), 469299], [datetime.datetime(2016, 1, 3, 7, 0), 469300], [datetime.datetime(2016, 1, 3, 11, 0), 469305], [datetime.datetime(2016, 1, 3, 15, 0), 469313], [datetime.datetime(2016, 1, 3, 19, 0), 469317], [datetime.datetime(2016, 1, 3, 23, 0), 469319], [datetime.datetime(2016, 1, 4, 3, 0), 469320], [datetime.datetime(2016, 1, 4, 7, 0), 469327], [datetime.datetime(2016, 1, 4, 11, 0), 469330], [datetime.datetime(2016, 1, 4, 15, 0), 469333], [datetime.datetime(2016, 1, 4, 19, 0), 469344], [datetime.datetime(2016, 1, 4, 23, 0), 469348], [datetime.datetime(2016, 1, 5, 3, 0), 469349], [datetime.datetime(2016, 1, 5, 7, 0), 469355], [datetime.datetime(2016, 1, 5, 11, 0), 469363], [datetime.datetime(2016, 1, 5, 15, 0), 469369], [datetime.datetime(2016, 1, 5, 19, 0), 469376], [datetime.datetime(2016, 1, 5, 23, 0), 469380], [datetime.datetime(2016, 1, 6, 3, 0), 469381], [datetime.datetime(2016, 1, 6, 7, 0), 469384], [datetime.datetime(2016, 1, 6, 11, 0), 469392], [datetime.datetime(2016, 1, 6, 15, 0), 469396], [datetime.datetime(2016, 1, 6, 19, 0), 469402], [datetime.datetime(2016, 1, 6, 23, 0), 469403], [datetime.datetime(2016, 1, 7, 3, 0), 469403], [datetime.datetime(2016, 1, 7, 7, 0), 469408], [datetime.datetime(2016, 1, 7, 11, 0), 469419], [datetime.datetime(2016, 1, 7, 15, 0), 469426], [datetime.datetime(2016, 1, 7, 19, 0), 469435], [datetime.datetime(2016, 1, 7, 23, 0), 469439], [datetime.datetime(2016, 1, 8, 3, 0), 469439], [datetime.datetime(2016, 1, 8, 7, 0), 469443], [datetime.datetime(2016, 1, 8, 11, 0), 469453], [datetime.datetime(2016, 1, 8, 15, 0), 469457], [datetime.datetime(2016, 1, 8, 19, 0), 469461], [datetime.datetime(2016, 1, 8, 23, 0), 469464]]\n",
      "[[datetime.datetime(2016, 1, 2, 3, 0), 1101510], [datetime.datetime(2016, 1, 2, 7, 0), 1101515], [datetime.datetime(2016, 1, 2, 11, 0), 1101543], [datetime.datetime(2016, 1, 2, 15, 0), 1101580], [datetime.datetime(2016, 1, 2, 19, 0), 1101623], [datetime.datetime(2016, 1, 2, 23, 0), 1101658], [datetime.datetime(2016, 1, 3, 3, 0), 1101662], [datetime.datetime(2016, 1, 3, 7, 0), 1101668], [datetime.datetime(2016, 1, 3, 11, 0), 1101699], [datetime.datetime(2016, 1, 3, 15, 0), 1101744], [datetime.datetime(2016, 1, 3, 19, 0), 1101781], [datetime.datetime(2016, 1, 3, 23, 0), 1101803], [datetime.datetime(2016, 1, 4, 3, 0), 1101807], [datetime.datetime(2016, 1, 4, 7, 0), 1101826], [datetime.datetime(2016, 1, 4, 11, 0), 1102002], [datetime.datetime(2016, 1, 4, 15, 0), 1102064], [datetime.datetime(2016, 1, 4, 19, 0), 1102127], [datetime.datetime(2016, 1, 4, 23, 0), 1102151], [datetime.datetime(2016, 1, 5, 3, 0), 1102154], [datetime.datetime(2016, 1, 5, 7, 0), 1102175], [datetime.datetime(2016, 1, 5, 11, 0), 1102370], [datetime.datetime(2016, 1, 5, 15, 0), 1102414], [datetime.datetime(2016, 1, 5, 19, 0), 1102492], [datetime.datetime(2016, 1, 5, 23, 0), 1102518], [datetime.datetime(2016, 1, 6, 3, 0), 1102527], [datetime.datetime(2016, 1, 6, 7, 0), 1102540], [datetime.datetime(2016, 1, 6, 11, 0), 1102689], [datetime.datetime(2016, 1, 6, 15, 0), 1102747], [datetime.datetime(2016, 1, 6, 19, 0), 1102818], [datetime.datetime(2016, 1, 6, 23, 0), 1102852], [datetime.datetime(2016, 1, 7, 3, 0), 1102857], [datetime.datetime(2016, 1, 7, 7, 0), 1102871], [datetime.datetime(2016, 1, 7, 11, 0), 1103039], [datetime.datetime(2016, 1, 7, 15, 0), 1103078], [datetime.datetime(2016, 1, 7, 19, 0), 1103150], [datetime.datetime(2016, 1, 7, 23, 0), 1103181], [datetime.datetime(2016, 1, 8, 3, 0), 1103184], [datetime.datetime(2016, 1, 8, 7, 0), 1103194], [datetime.datetime(2016, 1, 8, 11, 0), 1103349], [datetime.datetime(2016, 1, 8, 15, 0), 1103389], [datetime.datetime(2016, 1, 8, 19, 0), 1103440], [datetime.datetime(2016, 1, 8, 23, 0), 1103459]]\n",
      "[[datetime.datetime(2016, 1, 2, 3, 0), 7906131], [datetime.datetime(2016, 1, 2, 7, 0), 7906176], [datetime.datetime(2016, 1, 2, 11, 0), 7906439], [datetime.datetime(2016, 1, 2, 15, 0), 7906807], [datetime.datetime(2016, 1, 2, 19, 0), 7907256], [datetime.datetime(2016, 1, 2, 23, 0), 7907474], [datetime.datetime(2016, 1, 3, 3, 0), 7907577], [datetime.datetime(2016, 1, 3, 7, 0), 7907610], [datetime.datetime(2016, 1, 3, 11, 0), 7907775], [datetime.datetime(2016, 1, 3, 15, 0), 7908195], [datetime.datetime(2016, 1, 3, 19, 0), 7908647], [datetime.datetime(2016, 1, 3, 23, 0), 7908889], [datetime.datetime(2016, 1, 4, 3, 0), 7908916], [datetime.datetime(2016, 1, 4, 7, 0), 7909050], [datetime.datetime(2016, 1, 4, 11, 0), 7909971], [datetime.datetime(2016, 1, 4, 15, 0), 7910345], [datetime.datetime(2016, 1, 4, 19, 0), 7911034], [datetime.datetime(2016, 1, 4, 23, 0), 7911340], [datetime.datetime(2016, 1, 5, 3, 0), 7911365], [datetime.datetime(2016, 1, 5, 7, 0), 7911486], [datetime.datetime(2016, 1, 5, 11, 0), 7912518], [datetime.datetime(2016, 1, 5, 15, 0), 7912848], [datetime.datetime(2016, 1, 5, 19, 0), 7913511], [datetime.datetime(2016, 1, 5, 23, 0), 7913813], [datetime.datetime(2016, 1, 6, 3, 0), 7913857], [datetime.datetime(2016, 1, 6, 7, 0), 7913982], [datetime.datetime(2016, 1, 6, 11, 0), 7914973], [datetime.datetime(2016, 1, 6, 15, 0), 7915329], [datetime.datetime(2016, 1, 6, 19, 0), 7915995], [datetime.datetime(2016, 1, 6, 23, 0), 7916327], [datetime.datetime(2016, 1, 7, 3, 0), 7916376], [datetime.datetime(2016, 1, 7, 7, 0), 7916484], [datetime.datetime(2016, 1, 7, 11, 0), 7917480], [datetime.datetime(2016, 1, 7, 15, 0), 7917914], [datetime.datetime(2016, 1, 7, 19, 0), 7918612], [datetime.datetime(2016, 1, 7, 23, 0), 7918917], [datetime.datetime(2016, 1, 8, 3, 0), 7918958], [datetime.datetime(2016, 1, 8, 7, 0), 7919092], [datetime.datetime(2016, 1, 8, 11, 0), 7920070], [datetime.datetime(2016, 1, 8, 15, 0), 7920511], [datetime.datetime(2016, 1, 8, 19, 0), 7921245], [datetime.datetime(2016, 1, 8, 23, 0), 7921572]]\n",
      "[[datetime.datetime(2016, 1, 2, 3, 0), 3064078], [datetime.datetime(2016, 1, 2, 7, 0), 3064097], [datetime.datetime(2016, 1, 2, 11, 0), 3064205], [datetime.datetime(2016, 1, 2, 15, 0), 3064306], [datetime.datetime(2016, 1, 2, 19, 0), 3064399], [datetime.datetime(2016, 1, 2, 23, 0), 3064451], [datetime.datetime(2016, 1, 3, 3, 0), 3064473], [datetime.datetime(2016, 1, 3, 7, 0), 3064493], [datetime.datetime(2016, 1, 3, 11, 0), 3064581], [datetime.datetime(2016, 1, 3, 15, 0), 3064669], [datetime.datetime(2016, 1, 3, 19, 0), 3064748], [datetime.datetime(2016, 1, 3, 23, 0), 3064787], [datetime.datetime(2016, 1, 4, 3, 0), 3064794], [datetime.datetime(2016, 1, 4, 7, 0), 3064894], [datetime.datetime(2016, 1, 4, 11, 0), 3065237], [datetime.datetime(2016, 1, 4, 15, 0), 3065329], [datetime.datetime(2016, 1, 4, 19, 0), 3065443], [datetime.datetime(2016, 1, 4, 23, 0), 3065508], [datetime.datetime(2016, 1, 5, 3, 0), 3065512], [datetime.datetime(2016, 1, 5, 7, 0), 3065634], [datetime.datetime(2016, 1, 5, 11, 0), 3065970], [datetime.datetime(2016, 1, 5, 15, 0), 3066043], [datetime.datetime(2016, 1, 5, 19, 0), 3066155], [datetime.datetime(2016, 1, 5, 23, 0), 3066211], [datetime.datetime(2016, 1, 6, 3, 0), 3066217], [datetime.datetime(2016, 1, 6, 7, 0), 3066325], [datetime.datetime(2016, 1, 6, 11, 0), 3066756], [datetime.datetime(2016, 1, 6, 15, 0), 3066862], [datetime.datetime(2016, 1, 6, 19, 0), 3066977], [datetime.datetime(2016, 1, 6, 23, 0), 3067056], [datetime.datetime(2016, 1, 7, 3, 0), 3067062], [datetime.datetime(2016, 1, 7, 7, 0), 3067170], [datetime.datetime(2016, 1, 7, 11, 0), 3067598], [datetime.datetime(2016, 1, 7, 15, 0), 3067686], [datetime.datetime(2016, 1, 7, 19, 0), 3067776], [datetime.datetime(2016, 1, 7, 23, 0), 3067843], [datetime.datetime(2016, 1, 8, 3, 0), 3067854], [datetime.datetime(2016, 1, 8, 7, 0), 3067975], [datetime.datetime(2016, 1, 8, 11, 0), 3068414], [datetime.datetime(2016, 1, 8, 15, 0), 3068511], [datetime.datetime(2016, 1, 8, 19, 0), 3068601], [datetime.datetime(2016, 1, 8, 23, 0), 3068646]]\n",
      "[[datetime.datetime(2016, 1, 2, 3, 0), 6530309], [datetime.datetime(2016, 1, 2, 7, 0), 6530347], [datetime.datetime(2016, 1, 2, 11, 0), 6530584], [datetime.datetime(2016, 1, 2, 15, 0), 6530852], [datetime.datetime(2016, 1, 2, 19, 0), 6531175], [datetime.datetime(2016, 1, 2, 23, 0), 6531373], [datetime.datetime(2016, 1, 3, 3, 0), 6531433], [datetime.datetime(2016, 1, 3, 7, 0), 6531476], [datetime.datetime(2016, 1, 3, 11, 0), 6531655], [datetime.datetime(2016, 1, 3, 15, 0), 6531937], [datetime.datetime(2016, 1, 3, 19, 0), 6532260], [datetime.datetime(2016, 1, 3, 23, 0), 6532405], [datetime.datetime(2016, 1, 4, 3, 0), 6532443], [datetime.datetime(2016, 1, 4, 7, 0), 6532591], [datetime.datetime(2016, 1, 4, 11, 0), 6533518], [datetime.datetime(2016, 1, 4, 15, 0), 6533801], [datetime.datetime(2016, 1, 4, 19, 0), 6534318], [datetime.datetime(2016, 1, 4, 23, 0), 6534581], [datetime.datetime(2016, 1, 5, 3, 0), 6534612], [datetime.datetime(2016, 1, 5, 7, 0), 6534769], [datetime.datetime(2016, 1, 5, 11, 0), 6535763], [datetime.datetime(2016, 1, 5, 15, 0), 6536021], [datetime.datetime(2016, 1, 5, 19, 0), 6536495], [datetime.datetime(2016, 1, 5, 23, 0), 6536733], [datetime.datetime(2016, 1, 6, 3, 0), 6536765], [datetime.datetime(2016, 1, 6, 7, 0), 6536903], [datetime.datetime(2016, 1, 6, 11, 0), 6537936], [datetime.datetime(2016, 1, 6, 15, 0), 6538226], [datetime.datetime(2016, 1, 6, 19, 0), 6538760], [datetime.datetime(2016, 1, 6, 23, 0), 6539024], [datetime.datetime(2016, 1, 7, 3, 0), 6539058], [datetime.datetime(2016, 1, 7, 7, 0), 6539176], [datetime.datetime(2016, 1, 7, 11, 0), 6540268], [datetime.datetime(2016, 1, 7, 15, 0), 6540581], [datetime.datetime(2016, 1, 7, 19, 0), 6541074], [datetime.datetime(2016, 1, 7, 23, 0), 6541361], [datetime.datetime(2016, 1, 8, 3, 0), 6541415], [datetime.datetime(2016, 1, 8, 7, 0), 6541578], [datetime.datetime(2016, 1, 8, 11, 0), 6542531], [datetime.datetime(2016, 1, 8, 15, 0), 6542819], [datetime.datetime(2016, 1, 8, 19, 0), 6543368], [datetime.datetime(2016, 1, 8, 23, 0), 6543583]]\n",
      "[[datetime.datetime(2016, 1, 2, 3, 0), 0], [datetime.datetime(2016, 1, 2, 7, 0), 0], [datetime.datetime(2016, 1, 2, 11, 0), 0], [datetime.datetime(2016, 1, 2, 15, 0), 0], [datetime.datetime(2016, 1, 2, 19, 0), 0], [datetime.datetime(2016, 1, 2, 23, 0), 0], [datetime.datetime(2016, 1, 3, 3, 0), 0], [datetime.datetime(2016, 1, 3, 7, 0), 0], [datetime.datetime(2016, 1, 3, 15, 0), 0], [datetime.datetime(2016, 1, 3, 19, 0), 0], [datetime.datetime(2016, 1, 3, 23, 0), 0], [datetime.datetime(2016, 1, 4, 3, 0), 0], [datetime.datetime(2016, 1, 4, 7, 0), 0], [datetime.datetime(2016, 1, 4, 11, 0), 0], [datetime.datetime(2016, 1, 4, 15, 0), 0], [datetime.datetime(2016, 1, 4, 19, 0), 0], [datetime.datetime(2016, 1, 4, 23, 0), 0], [datetime.datetime(2016, 1, 5, 3, 0), 0], [datetime.datetime(2016, 1, 5, 7, 0), 0], [datetime.datetime(2016, 1, 5, 11, 0), 0], [datetime.datetime(2016, 1, 5, 15, 0), 0], [datetime.datetime(2016, 1, 5, 19, 0), 0], [datetime.datetime(2016, 1, 5, 23, 0), 0], [datetime.datetime(2016, 1, 6, 3, 0), 0], [datetime.datetime(2016, 1, 6, 7, 0), 0], [datetime.datetime(2016, 1, 6, 11, 0), 0], [datetime.datetime(2016, 1, 6, 15, 0), 0], [datetime.datetime(2016, 1, 6, 19, 0), 0], [datetime.datetime(2016, 1, 6, 23, 0), 0], [datetime.datetime(2016, 1, 7, 3, 0), 0], [datetime.datetime(2016, 1, 7, 7, 0), 0], [datetime.datetime(2016, 1, 7, 11, 0), 0], [datetime.datetime(2016, 1, 7, 15, 0), 0], [datetime.datetime(2016, 1, 7, 19, 0), 0], [datetime.datetime(2016, 1, 7, 23, 0), 0], [datetime.datetime(2016, 1, 8, 3, 0), 0], [datetime.datetime(2016, 1, 8, 7, 0), 0], [datetime.datetime(2016, 1, 8, 11, 0), 0], [datetime.datetime(2016, 1, 8, 15, 0), 0], [datetime.datetime(2016, 1, 8, 19, 0), 0], [datetime.datetime(2016, 1, 8, 23, 0), 0]]\n",
      "[[datetime.datetime(2016, 1, 2, 3, 0), 138807], [datetime.datetime(2016, 1, 2, 7, 0), 138807], [datetime.datetime(2016, 1, 2, 11, 0), 138810], [datetime.datetime(2016, 1, 2, 15, 0), 138814], [datetime.datetime(2016, 1, 2, 19, 0), 138819], [datetime.datetime(2016, 1, 2, 23, 0), 138821], [datetime.datetime(2016, 1, 3, 3, 0), 138828], [datetime.datetime(2016, 1, 3, 7, 0), 138828], [datetime.datetime(2016, 1, 3, 11, 0), 138831], [datetime.datetime(2016, 1, 3, 15, 0), 138838], [datetime.datetime(2016, 1, 3, 19, 0), 138843], [datetime.datetime(2016, 1, 3, 23, 0), 138849], [datetime.datetime(2016, 1, 4, 3, 0), 138850], [datetime.datetime(2016, 1, 4, 7, 0), 138850], [datetime.datetime(2016, 1, 4, 11, 0), 138854], [datetime.datetime(2016, 1, 4, 15, 0), 138857], [datetime.datetime(2016, 1, 4, 19, 0), 138865], [datetime.datetime(2016, 1, 4, 23, 0), 138867], [datetime.datetime(2016, 1, 5, 3, 0), 138870], [datetime.datetime(2016, 1, 5, 7, 0), 138876], [datetime.datetime(2016, 1, 5, 11, 0), 138882], [datetime.datetime(2016, 1, 5, 15, 0), 138884], [datetime.datetime(2016, 1, 5, 19, 0), 138890], [datetime.datetime(2016, 1, 5, 23, 0), 138894], [datetime.datetime(2016, 1, 6, 3, 0), 138898], [datetime.datetime(2016, 1, 6, 7, 0), 138899], [datetime.datetime(2016, 1, 6, 11, 0), 138903], [datetime.datetime(2016, 1, 6, 15, 0), 138910], [datetime.datetime(2016, 1, 6, 19, 0), 138916], [datetime.datetime(2016, 1, 6, 23, 0), 138918], [datetime.datetime(2016, 1, 7, 3, 0), 138922], [datetime.datetime(2016, 1, 7, 7, 0), 138922], [datetime.datetime(2016, 1, 7, 11, 0), 138926], [datetime.datetime(2016, 1, 7, 15, 0), 138929], [datetime.datetime(2016, 1, 7, 19, 0), 138938], [datetime.datetime(2016, 1, 7, 23, 0), 138944], [datetime.datetime(2016, 1, 8, 3, 0), 138947], [datetime.datetime(2016, 1, 8, 7, 0), 138947]]\n",
      "[[datetime.datetime(2016, 1, 2, 3, 0), 665], [datetime.datetime(2016, 1, 2, 7, 0), 665], [datetime.datetime(2016, 1, 2, 11, 0), 665], [datetime.datetime(2016, 1, 2, 15, 0), 665], [datetime.datetime(2016, 1, 2, 19, 0), 665], [datetime.datetime(2016, 1, 2, 23, 0), 665], [datetime.datetime(2016, 1, 3, 3, 0), 665], [datetime.datetime(2016, 1, 3, 7, 0), 665], [datetime.datetime(2016, 1, 3, 11, 0), 665], [datetime.datetime(2016, 1, 3, 15, 0), 666], [datetime.datetime(2016, 1, 3, 19, 0), 666], [datetime.datetime(2016, 1, 3, 23, 0), 666], [datetime.datetime(2016, 1, 4, 3, 0), 666], [datetime.datetime(2016, 1, 4, 7, 0), 666], [datetime.datetime(2016, 1, 4, 11, 0), 666], [datetime.datetime(2016, 1, 4, 15, 0), 667], [datetime.datetime(2016, 1, 4, 19, 0), 667], [datetime.datetime(2016, 1, 4, 23, 0), 667], [datetime.datetime(2016, 1, 5, 3, 0), 667], [datetime.datetime(2016, 1, 5, 7, 0), 667], [datetime.datetime(2016, 1, 5, 11, 0), 668], [datetime.datetime(2016, 1, 5, 15, 0), 668], [datetime.datetime(2016, 1, 5, 19, 0), 668], [datetime.datetime(2016, 1, 5, 23, 0), 668], [datetime.datetime(2016, 1, 6, 3, 0), 668], [datetime.datetime(2016, 1, 6, 7, 0), 668], [datetime.datetime(2016, 1, 6, 11, 0), 668], [datetime.datetime(2016, 1, 6, 15, 0), 668], [datetime.datetime(2016, 1, 6, 19, 0), 668], [datetime.datetime(2016, 1, 6, 23, 0), 668], [datetime.datetime(2016, 1, 7, 3, 0), 668], [datetime.datetime(2016, 1, 7, 7, 0), 668], [datetime.datetime(2016, 1, 7, 11, 0), 668], [datetime.datetime(2016, 1, 7, 15, 0), 668], [datetime.datetime(2016, 1, 7, 19, 0), 668], [datetime.datetime(2016, 1, 7, 23, 0), 668], [datetime.datetime(2016, 1, 8, 3, 0), 668], [datetime.datetime(2016, 1, 8, 7, 0), 668], [datetime.datetime(2016, 1, 8, 11, 0), 668], [datetime.datetime(2016, 1, 8, 15, 0), 668], [datetime.datetime(2016, 1, 8, 19, 0), 668], [datetime.datetime(2016, 1, 8, 23, 0), 668]]\n",
      "[[datetime.datetime(2016, 1, 2, 3, 0), 2353909], [datetime.datetime(2016, 1, 2, 7, 0), 2353943], [datetime.datetime(2016, 1, 2, 11, 0), 2354172], [datetime.datetime(2016, 1, 2, 15, 0), 2354519], [datetime.datetime(2016, 1, 2, 19, 0), 2354995], [datetime.datetime(2016, 1, 2, 23, 0), 2355217], [datetime.datetime(2016, 1, 3, 3, 0), 2355311], [datetime.datetime(2016, 1, 3, 7, 0), 2355338], [datetime.datetime(2016, 1, 3, 11, 0), 2355502], [datetime.datetime(2016, 1, 3, 15, 0), 2355839], [datetime.datetime(2016, 1, 3, 19, 0), 2356226], [datetime.datetime(2016, 1, 3, 23, 0), 2356373], [datetime.datetime(2016, 1, 4, 3, 0), 2356390], [datetime.datetime(2016, 1, 4, 7, 0), 2356478], [datetime.datetime(2016, 1, 4, 11, 0), 2357385], [datetime.datetime(2016, 1, 4, 15, 0), 2357748], [datetime.datetime(2016, 1, 4, 19, 0), 2358417], [datetime.datetime(2016, 1, 4, 23, 0), 2358685], [datetime.datetime(2016, 1, 5, 3, 0), 2358708], [datetime.datetime(2016, 1, 5, 7, 0), 2358815], [datetime.datetime(2016, 1, 5, 11, 0), 2359762], [datetime.datetime(2016, 1, 5, 15, 0), 2360109], [datetime.datetime(2016, 1, 5, 19, 0), 2360765], [datetime.datetime(2016, 1, 5, 23, 0), 2361003], [datetime.datetime(2016, 1, 6, 3, 0), 2361034], [datetime.datetime(2016, 1, 6, 7, 0), 2361135], [datetime.datetime(2016, 1, 6, 11, 0), 2362062], [datetime.datetime(2016, 1, 6, 15, 0), 2362462], [datetime.datetime(2016, 1, 6, 19, 0), 2363184], [datetime.datetime(2016, 1, 6, 23, 0), 2363493], [datetime.datetime(2016, 1, 7, 3, 0), 2363522], [datetime.datetime(2016, 1, 7, 7, 0), 2363600], [datetime.datetime(2016, 1, 7, 11, 0), 2364546], [datetime.datetime(2016, 1, 7, 15, 0), 2364922], [datetime.datetime(2016, 1, 7, 19, 0), 2365636], [datetime.datetime(2016, 1, 7, 23, 0), 2365961], [datetime.datetime(2016, 1, 8, 3, 0), 2365986], [datetime.datetime(2016, 1, 8, 7, 0), 2366073], [datetime.datetime(2016, 1, 8, 11, 0), 2366991], [datetime.datetime(2016, 1, 8, 15, 0), 2367393], [datetime.datetime(2016, 1, 8, 19, 0), 2368214], [datetime.datetime(2016, 1, 8, 23, 0), 2368476]]\n",
      "[[datetime.datetime(2016, 1, 2, 3, 0), 1849152], [datetime.datetime(2016, 1, 2, 7, 0), 1849161], [datetime.datetime(2016, 1, 2, 11, 0), 1849240], [datetime.datetime(2016, 1, 2, 15, 0), 1849340], [datetime.datetime(2016, 1, 2, 19, 0), 1849403], [datetime.datetime(2016, 1, 2, 23, 0), 1849445], [datetime.datetime(2016, 1, 3, 3, 0), 1849457], [datetime.datetime(2016, 1, 3, 7, 0), 1849465], [datetime.datetime(2016, 1, 3, 11, 0), 1849513], [datetime.datetime(2016, 1, 3, 15, 0), 1849581], [datetime.datetime(2016, 1, 3, 19, 0), 1849627], [datetime.datetime(2016, 1, 3, 23, 0), 1849650], [datetime.datetime(2016, 1, 4, 3, 0), 1849659], [datetime.datetime(2016, 1, 4, 7, 0), 1849688], [datetime.datetime(2016, 1, 4, 11, 0), 1849999], [datetime.datetime(2016, 1, 4, 15, 0), 1850089], [datetime.datetime(2016, 1, 4, 19, 0), 1850166], [datetime.datetime(2016, 1, 4, 23, 0), 1850206], [datetime.datetime(2016, 1, 5, 3, 0), 1850213], [datetime.datetime(2016, 1, 5, 7, 0), 1850251], [datetime.datetime(2016, 1, 5, 11, 0), 1850609], [datetime.datetime(2016, 1, 5, 15, 0), 1850679], [datetime.datetime(2016, 1, 5, 19, 0), 1850779], [datetime.datetime(2016, 1, 5, 23, 0), 1850820], [datetime.datetime(2016, 1, 6, 3, 0), 1850827], [datetime.datetime(2016, 1, 6, 7, 0), 1850865], [datetime.datetime(2016, 1, 6, 11, 0), 1851260], [datetime.datetime(2016, 1, 6, 15, 0), 1851348], [datetime.datetime(2016, 1, 6, 19, 0), 1851442], [datetime.datetime(2016, 1, 6, 23, 0), 1851501], [datetime.datetime(2016, 1, 7, 3, 0), 1851508], [datetime.datetime(2016, 1, 7, 7, 0), 1851541], [datetime.datetime(2016, 1, 7, 11, 0), 1851901], [datetime.datetime(2016, 1, 7, 15, 0), 1851981], [datetime.datetime(2016, 1, 7, 19, 0), 1852076], [datetime.datetime(2016, 1, 7, 23, 0), 1852122], [datetime.datetime(2016, 1, 8, 3, 0), 1852132], [datetime.datetime(2016, 1, 8, 7, 0), 1852183], [datetime.datetime(2016, 1, 8, 11, 0), 1852541], [datetime.datetime(2016, 1, 8, 15, 0), 1852621], [datetime.datetime(2016, 1, 8, 19, 0), 1852711], [datetime.datetime(2016, 1, 8, 23, 0), 1852747]]\n",
      "[[datetime.datetime(2016, 1, 2, 3, 0), 1238808], [datetime.datetime(2016, 1, 2, 7, 0), 1238817], [datetime.datetime(2016, 1, 2, 11, 0), 1238849], [datetime.datetime(2016, 1, 2, 15, 0), 1238879], [datetime.datetime(2016, 1, 2, 19, 0), 1238904], [datetime.datetime(2016, 1, 2, 23, 0), 1238920], [datetime.datetime(2016, 1, 3, 3, 0), 1238926], [datetime.datetime(2016, 1, 3, 7, 0), 1238934], [datetime.datetime(2016, 1, 3, 11, 0), 1238955], [datetime.datetime(2016, 1, 3, 15, 0), 1238980], [datetime.datetime(2016, 1, 3, 19, 0), 1239008], [datetime.datetime(2016, 1, 3, 23, 0), 1239024], [datetime.datetime(2016, 1, 4, 3, 0), 1239027], [datetime.datetime(2016, 1, 4, 7, 0), 1239056], [datetime.datetime(2016, 1, 4, 11, 0), 1239142], [datetime.datetime(2016, 1, 4, 15, 0), 1239163], [datetime.datetime(2016, 1, 4, 19, 0), 1239185], [datetime.datetime(2016, 1, 4, 23, 0), 1239200], [datetime.datetime(2016, 1, 5, 3, 0), 1239205], [datetime.datetime(2016, 1, 5, 7, 0), 1239243], [datetime.datetime(2016, 1, 5, 11, 0), 1239320], [datetime.datetime(2016, 1, 5, 15, 0), 1239348], [datetime.datetime(2016, 1, 5, 19, 0), 1239378], [datetime.datetime(2016, 1, 5, 23, 0), 1239391], [datetime.datetime(2016, 1, 6, 3, 0), 1239391], [datetime.datetime(2016, 1, 6, 7, 0), 1239432], [datetime.datetime(2016, 1, 6, 11, 0), 1239522], [datetime.datetime(2016, 1, 6, 15, 0), 1239551], [datetime.datetime(2016, 1, 6, 19, 0), 1239579], [datetime.datetime(2016, 1, 6, 23, 0), 1239595], [datetime.datetime(2016, 1, 7, 3, 0), 1239598], [datetime.datetime(2016, 1, 7, 7, 0), 1239635], [datetime.datetime(2016, 1, 7, 11, 0), 1239702], [datetime.datetime(2016, 1, 7, 15, 0), 1239731], [datetime.datetime(2016, 1, 7, 19, 0), 1239754], [datetime.datetime(2016, 1, 7, 23, 0), 1239781], [datetime.datetime(2016, 1, 8, 3, 0), 1239787], [datetime.datetime(2016, 1, 8, 7, 0), 1239819], [datetime.datetime(2016, 1, 8, 11, 0), 1239931], [datetime.datetime(2016, 1, 8, 15, 0), 1239962], [datetime.datetime(2016, 1, 8, 19, 0), 1239979], [datetime.datetime(2016, 1, 8, 23, 0), 1239990]]\n"
     ]
    }
   ],
   "source": [
    "\n",
    "!head -500 turnstile_160109.txt > turnstile_160109_test.txt\n",
    "from datetime import datetime, date, time\n",
    "fname = open('turnstile_160109_test.txt')\n",
    "#challenge 2\n",
    "nd = dict()\n",
    "for i, line in enumerate(fname):\n",
    "    if i > 0:\n",
    "        t = tuple(line.split(',')[0:4])\n",
    "        date_and_time = \" \".join(line.split(',')[6:8])\n",
    "        date_object = datetime.strptime(date_and_time, '%m/%d/%Y %H:%M:%S')\n",
    "        entry_count = int(line.split(',')[10])\n",
    "        if t in nd.keys():\n",
    "            nd[t].append([date_object,entry_count])\n",
    "        else:\n",
    "            nd[t]=[[date_object,entry_count]]\n",
    "\n",
    "#challenge 3\n",
    "dnd = dict()\n",
    "newdict = dict()\n",
    "for k,v in nd.items()[0:6]:\n",
    "    td = dict()\n",
    "    for i,data in enumerate(v):\n",
    "        te= data[0].day\n",
    "#         print(te)\n",
    "        ve= data[1]\n",
    "#         print(ve)\n",
    "        if te in td.keys():\n",
    "            td[te].append(ve)\n",
    "        else:\n",
    "            td[te]=[ve]\n",
    "    narr = []\n",
    "    datelist = []\n",
    "    for i,val in enumerate(td.items()):\n",
    "        key = val[0]\n",
    "#         print(val)\n",
    "        value = val[1]\n",
    "#         print(len(value))\n",
    "        if i != 6 and len(value) == 6:\n",
    "#             print(-value[0]+td.items()[i+1][1][0])\n",
    "            narr.append(-value[0]+td.items()[i+1][1][0])\n",
    "        if i == 6:\n",
    "#             print(-value[0]+value[len(value)-1])\n",
    "           narr.append(-value[0]+value[len(value)-1])\n",
    "#     print narr\n",
    "    newdict[k] = narr\n",
    "print newdict \n",
    "\n",
    "for k,v in nd.items():\n",
    "    print v\n",
    "\n"
   ]
  },
  {
   "cell_type": "code",
   "execution_count": 270,
   "metadata": {
    "collapsed": false
   },
   "outputs": [
    {
     "name": "stdout",
     "output_type": "stream",
     "text": [
      "(datetime.date(2016, 1, 2), [1152, 870, 1811, 1923, 1882, 2040, 1887])\n",
      "(datetime.date(2016, 1, 2), [2199, 1435, 2011, 1951, 1892])\n",
      "(datetime.date(2016, 1, 2), [223, 145, 371, 435, 389, 377, 332])\n",
      "(datetime.date(2016, 1, 2), [555, 420, 900, 967, 972, 962, 1009])\n",
      "(datetime.date(2016, 1, 2), [0, 0, 0, 0, 0, 0])\n",
      "(datetime.date(2016, 1, 2), [21, 22, 20, 28, 24, 25, 21])\n"
     ]
    }
   ],
   "source": [
    "\n",
    "%matplotlib inline\n",
    "import matplotlib.pyplot as plt\n",
    "# plt.figure(figsize=(10,3))\n",
    "# plt.plot(dates,counts)\n",
    "for k,v in newdict.items():\n",
    "    print(v)\n",
    "# zip(*list)"
   ]
  },
  {
   "cell_type": "code",
   "execution_count": 28,
   "metadata": {
    "collapsed": false
   },
   "outputs": [
    {
     "data": {
      "text/plain": [
       "[['BMT',\n",
       "  '01/02/2016',\n",
       "  '01:00:00',\n",
       "  'REGULAR',\n",
       "  '0013206367',\n",
       "  '0013861091                                           \\n'],\n",
       " ['BMT',\n",
       "  '01/02/2016',\n",
       "  '05:00:00',\n",
       "  'REGULAR',\n",
       "  '0013206371',\n",
       "  '0013861092                                           \\n'],\n",
       " ['BMT',\n",
       "  '01/02/2016',\n",
       "  '09:00:00',\n",
       "  'REGULAR',\n",
       "  '0013206395',\n",
       "  '0013861344                                           \\n'],\n",
       " ['BMT',\n",
       "  '01/02/2016',\n",
       "  '13:00:00',\n",
       "  'REGULAR',\n",
       "  '0013206499',\n",
       "  '0013861763                                           \\n'],\n",
       " ['BMT',\n",
       "  '01/02/2016',\n",
       "  '17:00:00',\n",
       "  'REGULAR',\n",
       "  '0013207026',\n",
       "  '0013862071                                           \\n'],\n",
       " ['BMT',\n",
       "  '01/02/2016',\n",
       "  '21:00:00',\n",
       "  'REGULAR',\n",
       "  '0013207570',\n",
       "  '0013862203                                           \\n'],\n",
       " ['BMT',\n",
       "  '01/03/2016',\n",
       "  '01:00:00',\n",
       "  'REGULAR',\n",
       "  '0013207700',\n",
       "  '0013862243                                           \\n'],\n",
       " ['BMT',\n",
       "  '01/03/2016',\n",
       "  '05:00:00',\n",
       "  'REGULAR',\n",
       "  '0013207713',\n",
       "  '0013862249                                           \\n'],\n",
       " ['BMT',\n",
       "  '01/03/2016',\n",
       "  '09:00:00',\n",
       "  'REGULAR',\n",
       "  '0013207732',\n",
       "  '0013862365                                           \\n'],\n",
       " ['BMT',\n",
       "  '01/03/2016',\n",
       "  '13:00:00',\n",
       "  'REGULAR',\n",
       "  '0013207834',\n",
       "  '0013862742                                           \\n'],\n",
       " ['BMT',\n",
       "  '01/03/2016',\n",
       "  '17:00:00',\n",
       "  'REGULAR',\n",
       "  '0013208236',\n",
       "  '0013862999                                           \\n'],\n",
       " ['BMT',\n",
       "  '01/03/2016',\n",
       "  '21:00:00',\n",
       "  'REGULAR',\n",
       "  '0013208592',\n",
       "  '0013863095                                           \\n'],\n",
       " ['BMT',\n",
       "  '01/04/2016',\n",
       "  '01:00:00',\n",
       "  'REGULAR',\n",
       "  '0013208665',\n",
       "  '0013863113                                           \\n'],\n",
       " ['BMT',\n",
       "  '01/04/2016',\n",
       "  '05:00:00',\n",
       "  'REGULAR',\n",
       "  '0013208669',\n",
       "  '0013863115                                           \\n'],\n",
       " ['BMT',\n",
       "  '01/04/2016',\n",
       "  '09:00:00',\n",
       "  'REGULAR',\n",
       "  '0013208778',\n",
       "  '0013863793                                           \\n'],\n",
       " ['BMT',\n",
       "  '01/04/2016',\n",
       "  '13:00:00',\n",
       "  'REGULAR',\n",
       "  '0013209058',\n",
       "  '0013864628                                           \\n'],\n",
       " ['BMT',\n",
       "  '01/04/2016',\n",
       "  '17:00:00',\n",
       "  'REGULAR',\n",
       "  '0013209809',\n",
       "  '0013864841                                           \\n'],\n",
       " ['BMT',\n",
       "  '01/04/2016',\n",
       "  '21:00:00',\n",
       "  'REGULAR',\n",
       "  '0013211029',\n",
       "  '0013864893                                           \\n'],\n",
       " ['BMT',\n",
       "  '01/05/2016',\n",
       "  '01:00:00',\n",
       "  'REGULAR',\n",
       "  '0013211148',\n",
       "  '0013864924                                           \\n'],\n",
       " ['BMT',\n",
       "  '01/05/2016',\n",
       "  '05:00:00',\n",
       "  'REGULAR',\n",
       "  '0013211150',\n",
       "  '0013864930                                           \\n'],\n",
       " ['BMT',\n",
       "  '01/05/2016',\n",
       "  '09:00:00',\n",
       "  'REGULAR',\n",
       "  '0013211248',\n",
       "  '0013865775                                           \\n'],\n",
       " ['BMT',\n",
       "  '01/05/2016',\n",
       "  '13:00:00',\n",
       "  'REGULAR',\n",
       "  '0013211544',\n",
       "  '0013866519                                           \\n'],\n",
       " ['BMT',\n",
       "  '01/05/2016',\n",
       "  '17:00:00',\n",
       "  'REGULAR',\n",
       "  '0013211777',\n",
       "  '0013866725                                           \\n'],\n",
       " ['BMT',\n",
       "  '01/05/2016',\n",
       "  '21:00:00',\n",
       "  'REGULAR',\n",
       "  '0013212172',\n",
       "  '0013866821                                           \\n'],\n",
       " ['BMT',\n",
       "  '01/06/2016',\n",
       "  '01:00:00',\n",
       "  'REGULAR',\n",
       "  '0013212285',\n",
       "  '0013866847                                           \\n'],\n",
       " ['BMT',\n",
       "  '01/06/2016',\n",
       "  '05:00:00',\n",
       "  'REGULAR',\n",
       "  '0013212290',\n",
       "  '0013866851                                           \\n'],\n",
       " ['BMT',\n",
       "  '01/06/2016',\n",
       "  '09:00:00',\n",
       "  'REGULAR',\n",
       "  '0013212390',\n",
       "  '0013867657                                           \\n'],\n",
       " ['BMT',\n",
       "  '01/06/2016',\n",
       "  '13:00:00',\n",
       "  'REGULAR',\n",
       "  '0013212652',\n",
       "  '0013868407                                           \\n'],\n",
       " ['BMT',\n",
       "  '01/06/2016',\n",
       "  '17:00:00',\n",
       "  'REGULAR',\n",
       "  '0013213385',\n",
       "  '0013868653                                           \\n'],\n",
       " ['BMT',\n",
       "  '01/06/2016',\n",
       "  '21:00:00',\n",
       "  'REGULAR',\n",
       "  '0013214632',\n",
       "  '0013868706                                           \\n'],\n",
       " ['BMT',\n",
       "  '01/07/2016',\n",
       "  '01:00:00',\n",
       "  'REGULAR',\n",
       "  '0013214764',\n",
       "  '0013868729                                           \\n'],\n",
       " ['BMT',\n",
       "  '01/07/2016',\n",
       "  '05:00:00',\n",
       "  'REGULAR',\n",
       "  '0013214769',\n",
       "  '0013868734                                           \\n'],\n",
       " ['BMT',\n",
       "  '01/07/2016',\n",
       "  '09:00:00',\n",
       "  'REGULAR',\n",
       "  '0013214851',\n",
       "  '0013869616                                           \\n'],\n",
       " ['BMT',\n",
       "  '01/07/2016',\n",
       "  '13:00:00',\n",
       "  'REGULAR',\n",
       "  '0013215145',\n",
       "  '0013870408                                           \\n'],\n",
       " ['BMT',\n",
       "  '01/07/2016',\n",
       "  '17:00:00',\n",
       "  'REGULAR',\n",
       "  '0013215917',\n",
       "  '0013870667                                           \\n'],\n",
       " ['BMT',\n",
       "  '01/07/2016',\n",
       "  '21:00:00',\n",
       "  'REGULAR',\n",
       "  '0013217146',\n",
       "  '0013870737                                           \\n'],\n",
       " ['BMT',\n",
       "  '01/08/2016',\n",
       "  '01:00:00',\n",
       "  'REGULAR',\n",
       "  '0013217289',\n",
       "  '0013870769                                           \\n'],\n",
       " ['BMT',\n",
       "  '01/08/2016',\n",
       "  '05:00:00',\n",
       "  'REGULAR',\n",
       "  '0013217293',\n",
       "  '0013870775                                           \\n'],\n",
       " ['BMT',\n",
       "  '01/08/2016',\n",
       "  '09:00:00',\n",
       "  'REGULAR',\n",
       "  '0013217384',\n",
       "  '0013871592                                           \\n'],\n",
       " ['BMT',\n",
       "  '01/08/2016',\n",
       "  '13:00:00',\n",
       "  'REGULAR',\n",
       "  '0013217691',\n",
       "  '0013872318                                           \\n'],\n",
       " ['BMT',\n",
       "  '01/08/2016',\n",
       "  '17:00:00',\n",
       "  'REGULAR',\n",
       "  '0013218478',\n",
       "  '0013872580                                           \\n'],\n",
       " ['BMT',\n",
       "  '01/08/2016',\n",
       "  '21:00:00',\n",
       "  'REGULAR',\n",
       "  '0013219594',\n",
       "  '0013872656                                           \\n']]"
      ]
     },
     "execution_count": 28,
     "metadata": {},
     "output_type": "execute_result"
    }
   ],
   "source": [
    "d[d.keys()[0]]"
   ]
  },
  {
   "cell_type": "code",
   "execution_count": 31,
   "metadata": {
    "collapsed": false
   },
   "outputs": [
    {
     "name": "stdout",
     "output_type": "stream",
     "text": [
      "{('A002', 'R051', '02-03-03', '59 ST'): [(Timestamp('2016-01-02 03:00:00'), 4366338), (Timestamp('2016-01-02 07:00:00'), 4366346), (Timestamp('2016-01-02 11:00:00'), 4366395), (Timestamp('2016-01-02 15:00:00'), 4366622), (Timestamp('2016-01-02 19:00:00'), 4366983), (Timestamp('2016-01-02 23:00:00'), 4367211), (Timestamp('2016-01-03 03:00:00'), 4367281), (Timestamp('2016-01-03 07:00:00'), 4367289), (Timestamp('2016-01-03 11:00:00'), 4367341), (Timestamp('2016-01-03 15:00:00'), 4367506), (Timestamp('2016-01-03 19:00:00'), 4367753), (Timestamp('2016-01-03 23:00:00'), 4367910), (Timestamp('2016-01-04 03:00:00'), 4367954), (Timestamp('2016-01-04 07:00:00'), 4367964), (Timestamp('2016-01-04 11:00:00'), 4368206), (Timestamp('2016-01-04 15:00:00'), 4368400), (Timestamp('2016-01-04 19:00:00'), 4369163), (Timestamp('2016-01-04 23:00:00'), 4369409), (Timestamp('2016-01-05 03:00:00'), 4369456), (Timestamp('2016-01-05 07:00:00'), 4369474), (Timestamp('2016-01-05 11:00:00'), 4369699), (Timestamp('2016-01-05 15:00:00'), 4369892), (Timestamp('2016-01-05 19:00:00'), 4370486), (Timestamp('2016-01-05 23:00:00'), 4370708), (Timestamp('2016-01-06 03:00:00'), 4370745), (Timestamp('2016-01-06 07:00:00'), 4370753), (Timestamp('2016-01-06 11:00:00'), 4370966), (Timestamp('2016-01-06 15:00:00'), 4371142), (Timestamp('2016-01-06 19:00:00'), 4371838), (Timestamp('2016-01-06 23:00:00'), 4372151), (Timestamp('2016-01-07 03:00:00'), 4372194), (Timestamp('2016-01-07 07:00:00'), 4372217), (Timestamp('2016-01-07 11:00:00'), 4372408), (Timestamp('2016-01-07 15:00:00'), 4372584), (Timestamp('2016-01-07 19:00:00'), 4373241), (Timestamp('2016-01-07 23:00:00'), 4373538), (Timestamp('2016-01-08 03:00:00'), 4373577), (Timestamp('2016-01-08 07:00:00'), 4373598), (Timestamp('2016-01-08 11:00:00'), 4373791), (Timestamp('2016-01-08 15:00:00'), 4373988), (Timestamp('2016-01-08 19:00:00'), 4374711), (Timestamp('2016-01-08 23:00:00'), 4375040)], ('A002', 'R051', '02-03-06', '59 ST'): [(Timestamp('2016-01-02 03:00:00'), 7028917), (Timestamp('2016-01-02 07:00:00'), 7028925), (Timestamp('2016-01-02 11:00:00'), 7029031), (Timestamp('2016-01-02 15:00:00'), 7029278), (Timestamp('2016-01-02 19:00:00'), 7029696), (Timestamp('2016-01-02 23:00:00'), 7029985), (Timestamp('2016-01-03 03:00:00'), 7030076), (Timestamp('2016-01-03 07:00:00'), 7030083), (Timestamp('2016-01-03 11:00:00'), 7030184), (Timestamp('2016-01-03 15:00:00'), 7030411), (Timestamp('2016-01-03 19:00:00'), 7030706), (Timestamp('2016-01-03 23:00:00'), 7030930), (Timestamp('2016-01-04 03:00:00'), 7030991), (Timestamp('2016-01-04 07:00:00'), 7031034), (Timestamp('2016-01-04 11:00:00'), 7031657), (Timestamp('2016-01-04 15:00:00'), 7031899), (Timestamp('2016-01-04 19:00:00'), 7032832), (Timestamp('2016-01-04 23:00:00'), 7033207), (Timestamp('2016-01-05 03:00:00'), 7033269), (Timestamp('2016-01-05 07:00:00'), 7033315), (Timestamp('2016-01-05 11:00:00'), 7033963), (Timestamp('2016-01-05 15:00:00'), 7034234), (Timestamp('2016-01-05 19:00:00'), 7035180), (Timestamp('2016-01-05 23:00:00'), 7035532), (Timestamp('2016-01-06 03:00:00'), 7035595), (Timestamp('2016-01-06 07:00:00'), 7035642), (Timestamp('2016-01-06 11:00:00'), 7036294), (Timestamp('2016-01-06 15:00:00'), 7036570), (Timestamp('2016-01-06 19:00:00'), 7037560), (Timestamp('2016-01-06 23:00:00'), 7037983), (Timestamp('2016-01-07 03:00:00'), 7038069), (Timestamp('2016-01-07 07:00:00'), 7038117), (Timestamp('2016-01-07 11:00:00'), 7038816), (Timestamp('2016-01-07 15:00:00'), 7039097), (Timestamp('2016-01-07 19:00:00'), 7040081), (Timestamp('2016-01-07 23:00:00'), 7040523), (Timestamp('2016-01-08 03:00:00'), 7040622), (Timestamp('2016-01-08 07:00:00'), 7040671), (Timestamp('2016-01-08 11:00:00'), 7041291), (Timestamp('2016-01-08 15:00:00'), 7041562), (Timestamp('2016-01-08 19:00:00'), 7042547), (Timestamp('2016-01-08 23:00:00'), 7042947)], ('A002', 'R051', '02-00-01', '59 ST'): [(Timestamp('2016-01-02 03:00:00'), 5043901), (Timestamp('2016-01-02 07:00:00'), 5043902), (Timestamp('2016-01-02 11:00:00'), 5043952), (Timestamp('2016-01-02 15:00:00'), 5044212), (Timestamp('2016-01-02 19:00:00'), 5044570), (Timestamp('2016-01-02 23:00:00'), 5044805), (Timestamp('2016-01-03 03:00:00'), 5044855), (Timestamp('2016-01-03 07:00:00'), 5044861), (Timestamp('2016-01-03 11:00:00'), 5044910), (Timestamp('2016-01-03 15:00:00'), 5045107), (Timestamp('2016-01-03 19:00:00'), 5045365), (Timestamp('2016-01-03 23:00:00'), 5045524), (Timestamp('2016-01-04 03:00:00'), 5045544), (Timestamp('2016-01-04 07:00:00'), 5045556), (Timestamp('2016-01-04 11:00:00'), 5045752), (Timestamp('2016-01-04 15:00:00'), 5045931), (Timestamp('2016-01-04 19:00:00'), 5046781), (Timestamp('2016-01-04 23:00:00'), 5047052), (Timestamp('2016-01-05 03:00:00'), 5047075), (Timestamp('2016-01-05 07:00:00'), 5047088), (Timestamp('2016-01-05 11:00:00'), 5047273), (Timestamp('2016-01-05 15:00:00'), 5047506), (Timestamp('2016-01-05 19:00:00'), 5048246), (Timestamp('2016-01-05 23:00:00'), 5048498), (Timestamp('2016-01-06 03:00:00'), 5048523), (Timestamp('2016-01-06 07:00:00'), 5048541), (Timestamp('2016-01-06 11:00:00'), 5048693), (Timestamp('2016-01-06 15:00:00'), 5048867), (Timestamp('2016-01-06 19:00:00'), 5049669), (Timestamp('2016-01-06 23:00:00'), 5049982), (Timestamp('2016-01-07 03:00:00'), 5050020), (Timestamp('2016-01-07 07:00:00'), 5050034), (Timestamp('2016-01-07 11:00:00'), 5050193), (Timestamp('2016-01-07 15:00:00'), 5050379), (Timestamp('2016-01-07 19:00:00'), 5051141), (Timestamp('2016-01-07 23:00:00'), 5051423), (Timestamp('2016-01-08 03:00:00'), 5051466), (Timestamp('2016-01-08 07:00:00'), 5051485), (Timestamp('2016-01-08 11:00:00'), 5051628), (Timestamp('2016-01-08 15:00:00'), 5051827), (Timestamp('2016-01-08 19:00:00'), 5052608), (Timestamp('2016-01-08 23:00:00'), 5052955)], ('A002', 'R051', '02-03-01', '59 ST'): [(Timestamp('2016-01-02 03:00:00'), 5007546), (Timestamp('2016-01-02 07:00:00'), 5007554), (Timestamp('2016-01-02 11:00:00'), 5007635), (Timestamp('2016-01-02 15:00:00'), 5007872), (Timestamp('2016-01-02 19:00:00'), 5008263), (Timestamp('2016-01-02 23:00:00'), 5008537), (Timestamp('2016-01-03 03:00:00'), 5008633), (Timestamp('2016-01-03 07:00:00'), 5008642), (Timestamp('2016-01-03 11:00:00'), 5008704), (Timestamp('2016-01-03 15:00:00'), 5008884), (Timestamp('2016-01-03 19:00:00'), 5009155), (Timestamp('2016-01-03 23:00:00'), 5009358), (Timestamp('2016-01-04 03:00:00'), 5009401), (Timestamp('2016-01-04 07:00:00'), 5009410), (Timestamp('2016-01-04 11:00:00'), 5009554), (Timestamp('2016-01-04 15:00:00'), 5009764), (Timestamp('2016-01-04 19:00:00'), 5010352), (Timestamp('2016-01-04 23:00:00'), 5010651), (Timestamp('2016-01-05 03:00:00'), 5010692), (Timestamp('2016-01-05 07:00:00'), 5010708), (Timestamp('2016-01-05 11:00:00'), 5010860), (Timestamp('2016-01-05 15:00:00'), 5011091), (Timestamp('2016-01-05 19:00:00'), 5011651), (Timestamp('2016-01-05 23:00:00'), 5011942), (Timestamp('2016-01-06 03:00:00'), 5011990), (Timestamp('2016-01-06 07:00:00'), 5012003), (Timestamp('2016-01-06 11:00:00'), 5012151), (Timestamp('2016-01-06 15:00:00'), 5012355), (Timestamp('2016-01-06 19:00:00'), 5012921), (Timestamp('2016-01-06 23:00:00'), 5013258), (Timestamp('2016-01-07 03:00:00'), 5013324), (Timestamp('2016-01-07 07:00:00'), 5013336), (Timestamp('2016-01-07 11:00:00'), 5013462), (Timestamp('2016-01-07 15:00:00'), 5013668), (Timestamp('2016-01-07 19:00:00'), 5014289), (Timestamp('2016-01-07 23:00:00'), 5014652), (Timestamp('2016-01-08 03:00:00'), 5014720), (Timestamp('2016-01-08 07:00:00'), 5014738), (Timestamp('2016-01-08 11:00:00'), 5014913), (Timestamp('2016-01-08 15:00:00'), 5015143), (Timestamp('2016-01-08 19:00:00'), 5015732), (Timestamp('2016-01-08 23:00:00'), 5016058)], ('A002', 'R051', '02-03-04', '59 ST'): [(Timestamp('2016-01-02 03:00:00'), 5536550), (Timestamp('2016-01-02 07:00:00'), 5536555), (Timestamp('2016-01-02 11:00:00'), 5536617), (Timestamp('2016-01-02 15:00:00'), 5536879), (Timestamp('2016-01-02 19:00:00'), 5537280), (Timestamp('2016-01-02 23:00:00'), 5537559), (Timestamp('2016-01-03 03:00:00'), 5537660), (Timestamp('2016-01-03 07:00:00'), 5537668), (Timestamp('2016-01-03 11:00:00'), 5537720), (Timestamp('2016-01-03 15:00:00'), 5537907), (Timestamp('2016-01-03 19:00:00'), 5538172), (Timestamp('2016-01-03 23:00:00'), 5538356), (Timestamp('2016-01-04 03:00:00'), 5538407), (Timestamp('2016-01-04 07:00:00'), 5538422), (Timestamp('2016-01-04 11:00:00'), 5538790), (Timestamp('2016-01-04 15:00:00'), 5539000), (Timestamp('2016-01-04 19:00:00'), 5539880), (Timestamp('2016-01-04 23:00:00'), 5540187), (Timestamp('2016-01-05 03:00:00'), 5540252), (Timestamp('2016-01-05 07:00:00'), 5540274), (Timestamp('2016-01-05 11:00:00'), 5540694), (Timestamp('2016-01-05 15:00:00'), 5540894), (Timestamp('2016-01-05 19:00:00'), 5541646), (Timestamp('2016-01-05 23:00:00'), 5541950), (Timestamp('2016-01-06 03:00:00'), 5542029), (Timestamp('2016-01-06 07:00:00'), 5542053), (Timestamp('2016-01-06 11:00:00'), 5542401), (Timestamp('2016-01-06 15:00:00'), 5542643), (Timestamp('2016-01-06 19:00:00'), 5543524), (Timestamp('2016-01-06 23:00:00'), 5543917), (Timestamp('2016-01-07 03:00:00'), 5543974), (Timestamp('2016-01-07 07:00:00'), 5543995), (Timestamp('2016-01-07 11:00:00'), 5544307), (Timestamp('2016-01-07 15:00:00'), 5544518), (Timestamp('2016-01-07 19:00:00'), 5545333), (Timestamp('2016-01-07 23:00:00'), 5545704), (Timestamp('2016-01-08 03:00:00'), 5545775), (Timestamp('2016-01-08 07:00:00'), 5545784), (Timestamp('2016-01-08 11:00:00'), 5546120), (Timestamp('2016-01-08 15:00:00'), 5546346), (Timestamp('2016-01-08 19:00:00'), 5547192), (Timestamp('2016-01-08 23:00:00'), 5547546)], ('A002', 'R051', '02-03-02', '59 ST'): [(Timestamp('2016-01-02 03:00:00'), 4735385), (Timestamp('2016-01-02 07:00:00'), 4735391), (Timestamp('2016-01-02 11:00:00'), 4735460), (Timestamp('2016-01-02 15:00:00'), 4735676), (Timestamp('2016-01-02 19:00:00'), 4736039), (Timestamp('2016-01-02 23:00:00'), 4736265), (Timestamp('2016-01-03 03:00:00'), 4736362), (Timestamp('2016-01-03 07:00:00'), 4736374), (Timestamp('2016-01-03 11:00:00'), 4736433), (Timestamp('2016-01-03 15:00:00'), 4736602), (Timestamp('2016-01-03 19:00:00'), 4736852), (Timestamp('2016-01-03 23:00:00'), 4737019), (Timestamp('2016-01-04 03:00:00'), 4737049), (Timestamp('2016-01-04 07:00:00'), 4737062), (Timestamp('2016-01-04 11:00:00'), 4737251), (Timestamp('2016-01-04 15:00:00'), 4737464), (Timestamp('2016-01-04 19:00:00'), 4738088), (Timestamp('2016-01-04 23:00:00'), 4738354), (Timestamp('2016-01-05 03:00:00'), 4738395), (Timestamp('2016-01-05 07:00:00'), 4738402), (Timestamp('2016-01-05 11:00:00'), 4738593), (Timestamp('2016-01-05 15:00:00'), 4738785), (Timestamp('2016-01-05 19:00:00'), 4739410), (Timestamp('2016-01-05 23:00:00'), 4739653), (Timestamp('2016-01-06 03:00:00'), 4739695), (Timestamp('2016-01-06 07:00:00'), 4739708), (Timestamp('2016-01-06 11:00:00'), 4739904), (Timestamp('2016-01-06 15:00:00'), 4740126), (Timestamp('2016-01-06 19:00:00'), 4740772), (Timestamp('2016-01-06 23:00:00'), 4741088), (Timestamp('2016-01-07 03:00:00'), 4741138), (Timestamp('2016-01-07 07:00:00'), 4741151), (Timestamp('2016-01-07 11:00:00'), 4741332), (Timestamp('2016-01-07 15:00:00'), 4741539), (Timestamp('2016-01-07 19:00:00'), 4742220), (Timestamp('2016-01-07 23:00:00'), 4742507), (Timestamp('2016-01-08 03:00:00'), 4742559), (Timestamp('2016-01-08 07:00:00'), 4742571), (Timestamp('2016-01-08 11:00:00'), 4742750), (Timestamp('2016-01-08 15:00:00'), 4742992), (Timestamp('2016-01-08 19:00:00'), 4743639), (Timestamp('2016-01-08 23:00:00'), 4743967)], ('A002', 'R051', '02-05-00', '59 ST'): [(Timestamp('2016-01-02 03:00:00'), 1239), (Timestamp('2016-01-02 07:00:00'), 1239), (Timestamp('2016-01-02 11:00:00'), 1239), (Timestamp('2016-01-02 15:00:00'), 1239), (Timestamp('2016-01-02 19:00:00'), 1239), (Timestamp('2016-01-02 23:00:00'), 1239), (Timestamp('2016-01-03 03:00:00'), 1239), (Timestamp('2016-01-03 07:00:00'), 1239), (Timestamp('2016-01-03 15:00:00'), 1240), (Timestamp('2016-01-03 19:00:00'), 1240), (Timestamp('2016-01-03 23:00:00'), 1240), (Timestamp('2016-01-04 03:00:00'), 1240), (Timestamp('2016-01-04 07:00:00'), 1240), (Timestamp('2016-01-04 11:00:00'), 1240), (Timestamp('2016-01-04 15:00:00'), 1240), (Timestamp('2016-01-04 19:00:00'), 1240), (Timestamp('2016-01-04 23:00:00'), 1240), (Timestamp('2016-01-05 03:00:00'), 1240), (Timestamp('2016-01-05 07:00:00'), 1240), (Timestamp('2016-01-05 11:00:00'), 1240), (Timestamp('2016-01-05 15:00:00'), 1240), (Timestamp('2016-01-05 19:00:00'), 1240), (Timestamp('2016-01-05 23:00:00'), 1240), (Timestamp('2016-01-06 03:00:00'), 1240), (Timestamp('2016-01-06 07:00:00'), 1240), (Timestamp('2016-01-06 11:00:00'), 1240), (Timestamp('2016-01-06 15:00:00'), 1240), (Timestamp('2016-01-06 19:00:00'), 1240), (Timestamp('2016-01-06 23:00:00'), 1240), (Timestamp('2016-01-07 03:00:00'), 1240), (Timestamp('2016-01-07 07:00:00'), 1240), (Timestamp('2016-01-07 11:00:00'), 1240), (Timestamp('2016-01-07 15:00:00'), 1240), (Timestamp('2016-01-07 19:00:00'), 1240), (Timestamp('2016-01-07 23:00:00'), 1240), (Timestamp('2016-01-08 03:00:00'), 1240), (Timestamp('2016-01-08 07:00:00'), 1240), (Timestamp('2016-01-08 11:00:00'), 1240), (Timestamp('2016-01-08 15:00:00'), 1240), (Timestamp('2016-01-08 19:00:00'), 1240), (Timestamp('2016-01-08 23:00:00'), 1240)], ('A002', 'R051', '02-06-00', '59 ST'): [(Timestamp('2016-01-02 03:00:00'), 6168624), (Timestamp('2016-01-02 07:00:00'), 6168643), (Timestamp('2016-01-02 11:00:00'), 6168741), (Timestamp('2016-01-02 15:00:00'), 6169027), (Timestamp('2016-01-02 19:00:00'), 6169479), (Timestamp('2016-01-02 23:00:00'), 6169800), (Timestamp('2016-01-03 03:00:00'), 6169894), (Timestamp('2016-01-03 07:00:00'), 6169911), (Timestamp('2016-01-03 11:00:00'), 6170028), (Timestamp('2016-01-03 15:00:00'), 6170306), (Timestamp('2016-01-03 19:00:00'), 6170626), (Timestamp('2016-01-03 23:00:00'), 6170826), (Timestamp('2016-01-04 03:00:00'), 6170888), (Timestamp('2016-01-04 07:00:00'), 6170932), (Timestamp('2016-01-04 11:00:00'), 6171560), (Timestamp('2016-01-04 15:00:00'), 6171822), (Timestamp('2016-01-04 19:00:00'), 6172744), (Timestamp('2016-01-04 23:00:00'), 6173112), (Timestamp('2016-01-05 03:00:00'), 6173169), (Timestamp('2016-01-05 07:00:00'), 6173215), (Timestamp('2016-01-05 11:00:00'), 6173882), (Timestamp('2016-01-05 15:00:00'), 6174189), (Timestamp('2016-01-05 19:00:00'), 6175014), (Timestamp('2016-01-05 23:00:00'), 6175343), (Timestamp('2016-01-06 03:00:00'), 6175395), (Timestamp('2016-01-06 07:00:00'), 6175449), (Timestamp('2016-01-06 11:00:00'), 6176135), (Timestamp('2016-01-06 15:00:00'), 6176458), (Timestamp('2016-01-06 19:00:00'), 6177430), (Timestamp('2016-01-06 23:00:00'), 6177839), (Timestamp('2016-01-07 03:00:00'), 6177894), (Timestamp('2016-01-07 07:00:00'), 6177941), (Timestamp('2016-01-07 11:00:00'), 6178649), (Timestamp('2016-01-07 15:00:00'), 6178966), (Timestamp('2016-01-07 19:00:00'), 6179985), (Timestamp('2016-01-07 23:00:00'), 6180419), (Timestamp('2016-01-08 03:00:00'), 6180476), (Timestamp('2016-01-08 07:00:00'), 6180532)], ('A002', 'R051', '02-05-01', '59 ST'): [(Timestamp('2016-01-02 03:00:00'), 0), (Timestamp('2016-01-02 07:00:00'), 0), (Timestamp('2016-01-02 11:00:00'), 0), (Timestamp('2016-01-02 15:00:00'), 0), (Timestamp('2016-01-02 19:00:00'), 0), (Timestamp('2016-01-02 23:00:00'), 0), (Timestamp('2016-01-03 03:00:00'), 0), (Timestamp('2016-01-03 07:00:00'), 0), (Timestamp('2016-01-03 11:00:00'), 0), (Timestamp('2016-01-03 15:00:00'), 0), (Timestamp('2016-01-03 19:00:00'), 0), (Timestamp('2016-01-03 23:00:00'), 0), (Timestamp('2016-01-04 03:00:00'), 0), (Timestamp('2016-01-04 07:00:00'), 0), (Timestamp('2016-01-04 11:00:00'), 0), (Timestamp('2016-01-04 15:00:00'), 0), (Timestamp('2016-01-04 19:00:00'), 0), (Timestamp('2016-01-04 23:00:00'), 0), (Timestamp('2016-01-05 03:00:00'), 0), (Timestamp('2016-01-05 07:00:00'), 0), (Timestamp('2016-01-05 11:00:00'), 0), (Timestamp('2016-01-05 15:00:00'), 0), (Timestamp('2016-01-05 19:00:00'), 0), (Timestamp('2016-01-05 23:00:00'), 0), (Timestamp('2016-01-06 03:00:00'), 0), (Timestamp('2016-01-06 07:00:00'), 0), (Timestamp('2016-01-06 11:00:00'), 0), (Timestamp('2016-01-06 15:00:00'), 0), (Timestamp('2016-01-06 19:00:00'), 0), (Timestamp('2016-01-06 23:00:00'), 0), (Timestamp('2016-01-07 03:00:00'), 0), (Timestamp('2016-01-07 07:00:00'), 0), (Timestamp('2016-01-07 11:00:00'), 0), (Timestamp('2016-01-07 15:00:00'), 0), (Timestamp('2016-01-07 19:00:00'), 0), (Timestamp('2016-01-07 23:00:00'), 0), (Timestamp('2016-01-08 03:00:00'), 0), (Timestamp('2016-01-08 07:00:00'), 0), (Timestamp('2016-01-08 11:00:00'), 0), (Timestamp('2016-01-08 15:00:00'), 0), (Timestamp('2016-01-08 19:00:00'), 0), (Timestamp('2016-01-08 23:00:00'), 0)], ('A002', 'R051', '02-03-00', '59 ST'): [(Timestamp('2016-01-02 03:00:00'), 624457), (Timestamp('2016-01-02 07:00:00'), 624459), (Timestamp('2016-01-02 11:00:00'), 624481), (Timestamp('2016-01-02 15:00:00'), 624573), (Timestamp('2016-01-02 19:00:00'), 624764), (Timestamp('2016-01-02 23:00:00'), 624887), (Timestamp('2016-01-03 03:00:00'), 624921), (Timestamp('2016-01-03 07:00:00'), 624922), (Timestamp('2016-01-03 11:00:00'), 624941), (Timestamp('2016-01-03 15:00:00'), 625016), (Timestamp('2016-01-03 19:00:00'), 625126), (Timestamp('2016-01-03 23:00:00'), 625211), (Timestamp('2016-01-04 03:00:00'), 625217), (Timestamp('2016-01-04 07:00:00'), 625224), (Timestamp('2016-01-04 11:00:00'), 625305), (Timestamp('2016-01-04 15:00:00'), 625380), (Timestamp('2016-01-04 19:00:00'), 625760), (Timestamp('2016-01-04 23:00:00'), 625889), (Timestamp('2016-01-05 03:00:00'), 625901), (Timestamp('2016-01-05 07:00:00'), 625905), (Timestamp('2016-01-05 11:00:00'), 625973), (Timestamp('2016-01-05 15:00:00'), 626056), (Timestamp('2016-01-05 19:00:00'), 626339), (Timestamp('2016-01-05 23:00:00'), 626446), (Timestamp('2016-01-06 03:00:00'), 626460), (Timestamp('2016-01-06 07:00:00'), 626466), (Timestamp('2016-01-06 11:00:00'), 626532), (Timestamp('2016-01-06 15:00:00'), 626601), (Timestamp('2016-01-06 19:00:00'), 626895), (Timestamp('2016-01-06 23:00:00'), 627029), (Timestamp('2016-01-07 03:00:00'), 627045), (Timestamp('2016-01-07 07:00:00'), 627054), (Timestamp('2016-01-07 11:00:00'), 627114), (Timestamp('2016-01-07 15:00:00'), 627191), (Timestamp('2016-01-07 19:00:00'), 627477), (Timestamp('2016-01-07 23:00:00'), 627612), (Timestamp('2016-01-08 03:00:00'), 627631), (Timestamp('2016-01-08 07:00:00'), 627635), (Timestamp('2016-01-08 11:00:00'), 627696), (Timestamp('2016-01-08 15:00:00'), 627766), (Timestamp('2016-01-08 19:00:00'), 628079), (Timestamp('2016-01-08 23:00:00'), 628204)], ('A002', 'R051', '02-00-00', '59 ST'): [(Timestamp('2016-01-02 03:00:00'), 5478180), (Timestamp('2016-01-02 07:00:00'), 5478183), (Timestamp('2016-01-02 11:00:00'), 5478262), (Timestamp('2016-01-02 15:00:00'), 5478519), (Timestamp('2016-01-02 19:00:00'), 5478940), (Timestamp('2016-01-02 23:00:00'), 5479213), (Timestamp('2016-01-03 03:00:00'), 5479279), (Timestamp('2016-01-03 07:00:00'), 5479282), (Timestamp('2016-01-03 11:00:00'), 5479344), (Timestamp('2016-01-03 15:00:00'), 5479558), (Timestamp('2016-01-03 19:00:00'), 5479861), (Timestamp('2016-01-03 23:00:00'), 5480016), (Timestamp('2016-01-04 03:00:00'), 5480037), (Timestamp('2016-01-04 07:00:00'), 5480054), (Timestamp('2016-01-04 11:00:00'), 5480267), (Timestamp('2016-01-04 15:00:00'), 5480499), (Timestamp('2016-01-04 19:00:00'), 5481461), (Timestamp('2016-01-04 23:00:00'), 5481770), (Timestamp('2016-01-05 03:00:00'), 5481795), (Timestamp('2016-01-05 07:00:00'), 5481808), (Timestamp('2016-01-05 11:00:00'), 5481983), (Timestamp('2016-01-05 15:00:00'), 5482235), (Timestamp('2016-01-05 19:00:00'), 5483044), (Timestamp('2016-01-05 23:00:00'), 5483391), (Timestamp('2016-01-06 03:00:00'), 5483436), (Timestamp('2016-01-06 07:00:00'), 5483458), (Timestamp('2016-01-06 11:00:00'), 5483626), (Timestamp('2016-01-06 15:00:00'), 5483826), (Timestamp('2016-01-06 19:00:00'), 5484778), (Timestamp('2016-01-06 23:00:00'), 5485169), (Timestamp('2016-01-07 03:00:00'), 5485220), (Timestamp('2016-01-07 07:00:00'), 5485234), (Timestamp('2016-01-07 11:00:00'), 5485391), (Timestamp('2016-01-07 15:00:00'), 5485637), (Timestamp('2016-01-07 19:00:00'), 5486605), (Timestamp('2016-01-07 23:00:00'), 5487003), (Timestamp('2016-01-08 03:00:00'), 5487058), (Timestamp('2016-01-08 07:00:00'), 5487070), (Timestamp('2016-01-08 11:00:00'), 5487262), (Timestamp('2016-01-08 15:00:00'), 5487542), (Timestamp('2016-01-08 19:00:00'), 5488493), (Timestamp('2016-01-08 23:00:00'), 5488911)], ('A002', 'R051', '02-03-05', '59 ST'): [(Timestamp('2016-01-02 03:00:00'), 8962882), (Timestamp('2016-01-02 07:00:00'), 8962908), (Timestamp('2016-01-02 11:00:00'), 8963068), (Timestamp('2016-01-02 15:00:00'), 8963454), (Timestamp('2016-01-02 19:00:00'), 8964036), (Timestamp('2016-01-02 23:00:00'), 8964474), (Timestamp('2016-01-03 03:00:00'), 8964649), (Timestamp('2016-01-03 07:00:00'), 8964675), (Timestamp('2016-01-03 11:00:00'), 8964827), (Timestamp('2016-01-03 15:00:00'), 8965159), (Timestamp('2016-01-03 19:00:00'), 8965638), (Timestamp('2016-01-03 23:00:00'), 8965996), (Timestamp('2016-01-04 03:00:00'), 8966103), (Timestamp('2016-01-04 07:00:00'), 8966166), (Timestamp('2016-01-04 11:00:00'), 8966766), (Timestamp('2016-01-04 15:00:00'), 8967104), (Timestamp('2016-01-04 19:00:00'), 8968133), (Timestamp('2016-01-04 23:00:00'), 8968618), (Timestamp('2016-01-05 03:00:00'), 8968743), (Timestamp('2016-01-05 07:00:00'), 8968810), (Timestamp('2016-01-05 11:00:00'), 8969413), (Timestamp('2016-01-05 15:00:00'), 8969752), (Timestamp('2016-01-05 19:00:00'), 8970771), (Timestamp('2016-01-05 23:00:00'), 8971225), (Timestamp('2016-01-06 03:00:00'), 8971342), (Timestamp('2016-01-06 07:00:00'), 8971402), (Timestamp('2016-01-06 11:00:00'), 8972043), (Timestamp('2016-01-06 15:00:00'), 8972464), (Timestamp('2016-01-06 19:00:00'), 8973553), (Timestamp('2016-01-06 23:00:00'), 8974068), (Timestamp('2016-01-07 03:00:00'), 8974197), (Timestamp('2016-01-07 07:00:00'), 8974255), (Timestamp('2016-01-07 11:00:00'), 8974897), (Timestamp('2016-01-07 15:00:00'), 8975288), (Timestamp('2016-01-07 19:00:00'), 8976399), (Timestamp('2016-01-07 23:00:00'), 8976972), (Timestamp('2016-01-08 03:00:00'), 8977115), (Timestamp('2016-01-08 07:00:00'), 8977170), (Timestamp('2016-01-08 11:00:00'), 8977809), (Timestamp('2016-01-08 15:00:00'), 8978228), (Timestamp('2016-01-08 19:00:00'), 8979295), (Timestamp('2016-01-08 23:00:00'), 8979860)]}\n"
     ]
    }
   ],
   "source": [
    "!head -500 turnstile_160109.txt > turnstile_160109_test.txt\n",
    "from datetime import datetime, date, time\n",
    "import pandas as pd\n",
    "\n",
    "df = pd.read_csv('turnstile_160109_test.txt', header=0)\n",
    "\n",
    "keys = zip(df[\"C/A\"],df[\"UNIT\"],df[\"SCP\"],df[\"STATION\"])\n",
    "datetimes = pd.to_datetime(df[\"DATE\"]+df[\"TIME\"],format=\"%m/%d/%Y%H:%M:%S\")\n",
    "values = zip(datetimes, df[\"ENTRIES\"])\n",
    "\n",
    "#challenge 2\n",
    "d = dict()\n",
    "for i, key in enumerate(keys):\n",
    "    if key in d.keys():\n",
    "        d[key].append(values[i])\n",
    "    else:\n",
    "        d[key] = [values[i]]\n",
    "\n",
    "#challeng 3\n",
    "print d\n",
    "\n"
   ]
  },
  {
   "cell_type": "code",
   "execution_count": null,
   "metadata": {
    "collapsed": false
   },
   "outputs": [],
   "source": []
  },
  {
   "cell_type": "code",
   "execution_count": 1,
   "metadata": {
    "collapsed": false
   },
   "outputs": [
    {
     "name": "stdout",
     "output_type": "stream",
     "text": [
      "C/A,UNIT,SCP,STATION,LINENAME,DIVISION,DATE,TIME,DESC,ENTRIES,EXITS                                                               \r\n",
      "A002,R051,02-00-00,59 ST,NQR456,BMT,01/02/2016,03:00:00,REGULAR,0005478180,0001849152                                             \r\n",
      "A002,R051,02-00-00,59 ST,NQR456,BMT,01/02/2016,07:00:00,REGULAR,0005478183,0001849161                                             \r\n",
      "A002,R051,02-00-00,59 ST,NQR456,BMT,01/02/2016,11:00:00,REGULAR,0005478262,0001849240                                             \r\n",
      "A002,R051,02-00-00,59 ST,NQR456,BMT,01/02/2016,15:00:00,REGULAR,0005478519,0001849340                                             \r\n",
      "A002,R051,02-00-00,59 ST,NQR456,BMT,01/02/2016,19:00:00,REGULAR,0005478940,0001849403                                             \r\n",
      "A002,R051,02-00-00,59 ST,NQR456,BMT,01/02/2016,23:00:00,REGULAR,0005479213,0001849445                                             \r\n",
      "A002,R051,02-00-00,59 ST,NQR456,BMT,01/03/2016,03:00:00,REGULAR,0005479279,0001849457                                             \r\n",
      "A002,R051,02-00-00,59 ST,NQR456,BMT,01/03/2016,07:00:00,REGULAR,0005479282,0001849465                                             \r\n",
      "A002,R051,02-00-00,59 ST,NQR456,BMT,01/03/2016,11:00:00,REGULAR,0005479344,0001849513                                             \r\n"
     ]
    }
   ],
   "source": [
    "!head 'turnstile_160109.txt'"
   ]
  },
  {
   "cell_type": "code",
   "execution_count": 10,
   "metadata": {
    "collapsed": false
   },
   "outputs": [
    {
     "name": "stderr",
     "output_type": "stream",
     "text": [
      "ERROR: Line magic function `%paste` not found.\n"
     ]
    }
   ],
   "source": [
    "#Let's turn this into a time series.\n",
    "#For each key (basically the control area, unit, device address and station \n",
    "# of a specific turnstile), have a list again, but let the list be \n",
    "# comprised of just the point in time and the count of entries.\n",
    "#This basically means keeping only the date, time, and entries \n",
    "# fields in each list. You can convert the date and time into datetime objects -- \n",
    "# That is a python class that represents a point in time. \n",
    "# You can combine the date and time fields into a string and use the dateutil \n",
    "#module to convert it into a datetime object. For an example check this StackOverflow question.\n",
    "\n",
    "#Your new dict should look something like\n",
    "\n",
    "#{ ('A002','R051','02-00-00','LEXINGTON AVE'): [ [datetime.datetime(2013, 3, 2, 3, 0), 3788], [datetime.datetime(2013, 3, 2, 7, 0), 2585], [datetime.datetime(2013, 3, 2, 12, 0), 10653], [datetime.datetime(2013, 3, 2, 17, 0), 11016], [datetime.datetime(2013, 3, 2, 23, 0), 10666], [datetime.datetime(2013, 3, 3, 3, 0), 10814], [datetime.datetime(2013, 3, 3, 7, 0), 10229], ... ], .... }"
   ]
  },
  {
   "cell_type": "code",
   "execution_count": 25,
   "metadata": {
    "collapsed": false
   },
   "outputs": [
    {
     "name": "stdout",
     "output_type": "stream",
     "text": [
      "2016-01-07 08:00:00\n",
      "2005-07-14 12:30:00\n"
     ]
    }
   ],
   "source": [
    "from datetime import datetime, date, time\n",
    "date_object = datetime.strptime('01/07/2016 08:00:00', '%m/%d/%Y %I:%M:%S')\n",
    "\n",
    "print(date_object)\n",
    "d = date(2005, 7, 14)\n",
    "t = time(12, 30)\n",
    "v =datetime.combine(d, t)\n",
    "# print(date('1/1/2015'))\n",
    "# time.strptime(string[, format])¶\n",
    "\n",
    "# time.str\n",
    "print v"
   ]
  },
  {
   "cell_type": "code",
   "execution_count": 30,
   "metadata": {
    "collapsed": false
   },
   "outputs": [
    {
     "data": {
      "text/plain": [
       "'cat dog'"
      ]
     },
     "execution_count": 30,
     "metadata": {},
     "output_type": "execute_result"
    }
   ],
   "source": [
    "\" \".join([\"cat\",\"dog\"])"
   ]
  },
  {
   "cell_type": "code",
   "execution_count": 169,
   "metadata": {
    "collapsed": false
   },
   "outputs": [
    {
     "name": "stdout",
     "output_type": "stream",
     "text": [
      "0\n",
      "6\n",
      "12\n",
      "18\n",
      "24\n",
      "30\n",
      "36\n"
     ]
    }
   ],
   "source": [
    "for i in range(0,42,6):\n",
    "    print(i)"
   ]
  },
  {
   "cell_type": "code",
   "execution_count": 181,
   "metadata": {
    "collapsed": false
   },
   "outputs": [
    {
     "ename": "AttributeError",
     "evalue": "type object 'datetime.datetime' has no attribute 'datetime'",
     "output_type": "error",
     "traceback": [
      "\u001b[0;31m---------------------------------------------------------------------------\u001b[0m",
      "\u001b[0;31mAttributeError\u001b[0m                            Traceback (most recent call last)",
      "\u001b[0;32m<ipython-input-181-e8bf5633773d>\u001b[0m in \u001b[0;36m<module>\u001b[0;34m()\u001b[0m\n\u001b[0;32m----> 1\u001b[0;31m \u001b[0mb\u001b[0m \u001b[0;34m=\u001b[0m \u001b[0;34m[\u001b[0m\u001b[0;34m[\u001b[0m\u001b[0mdatetime\u001b[0m\u001b[0;34m.\u001b[0m\u001b[0mdatetime\u001b[0m\u001b[0;34m(\u001b[0m\u001b[0;36m2016\u001b[0m\u001b[0;34m,\u001b[0m \u001b[0;36m1\u001b[0m\u001b[0;34m,\u001b[0m \u001b[0;36m2\u001b[0m\u001b[0;34m,\u001b[0m \u001b[0;36m3\u001b[0m\u001b[0;34m,\u001b[0m \u001b[0;36m0\u001b[0m\u001b[0;34m)\u001b[0m\u001b[0;34m,\u001b[0m \u001b[0;36m0\u001b[0m\u001b[0;34m]\u001b[0m\u001b[0;34m,\u001b[0m \u001b[0;34m[\u001b[0m\u001b[0mdatetime\u001b[0m\u001b[0;34m.\u001b[0m\u001b[0mdatetime\u001b[0m\u001b[0;34m(\u001b[0m\u001b[0;36m2016\u001b[0m\u001b[0;34m,\u001b[0m \u001b[0;36m1\u001b[0m\u001b[0;34m,\u001b[0m \u001b[0;36m2\u001b[0m\u001b[0;34m,\u001b[0m \u001b[0;36m7\u001b[0m\u001b[0;34m,\u001b[0m \u001b[0;36m0\u001b[0m\u001b[0;34m)\u001b[0m\u001b[0;34m,\u001b[0m \u001b[0;36m0\u001b[0m\u001b[0;34m]\u001b[0m\u001b[0;34m,\u001b[0m \u001b[0;34m[\u001b[0m\u001b[0mdatetime\u001b[0m\u001b[0;34m.\u001b[0m\u001b[0mdatetime\u001b[0m\u001b[0;34m(\u001b[0m\u001b[0;36m2016\u001b[0m\u001b[0;34m,\u001b[0m \u001b[0;36m1\u001b[0m\u001b[0;34m,\u001b[0m \u001b[0;36m2\u001b[0m\u001b[0;34m,\u001b[0m \u001b[0;36m11\u001b[0m\u001b[0;34m,\u001b[0m \u001b[0;36m0\u001b[0m\u001b[0;34m)\u001b[0m\u001b[0;34m,\u001b[0m \u001b[0;36m0\u001b[0m\u001b[0;34m]\u001b[0m\u001b[0;34m,\u001b[0m \u001b[0;34m[\u001b[0m\u001b[0mdatetime\u001b[0m\u001b[0;34m.\u001b[0m\u001b[0mdatetime\u001b[0m\u001b[0;34m(\u001b[0m\u001b[0;36m2016\u001b[0m\u001b[0;34m,\u001b[0m \u001b[0;36m1\u001b[0m\u001b[0;34m,\u001b[0m \u001b[0;36m2\u001b[0m\u001b[0;34m,\u001b[0m \u001b[0;36m15\u001b[0m\u001b[0;34m,\u001b[0m \u001b[0;36m0\u001b[0m\u001b[0;34m)\u001b[0m\u001b[0;34m,\u001b[0m \u001b[0;36m0\u001b[0m\u001b[0;34m]\u001b[0m\u001b[0;34m,\u001b[0m \u001b[0;34m[\u001b[0m\u001b[0mdatetime\u001b[0m\u001b[0;34m.\u001b[0m\u001b[0mdatetime\u001b[0m\u001b[0;34m(\u001b[0m\u001b[0;36m2016\u001b[0m\u001b[0;34m,\u001b[0m \u001b[0;36m1\u001b[0m\u001b[0;34m,\u001b[0m \u001b[0;36m2\u001b[0m\u001b[0;34m,\u001b[0m \u001b[0;36m19\u001b[0m\u001b[0;34m,\u001b[0m \u001b[0;36m0\u001b[0m\u001b[0;34m)\u001b[0m\u001b[0;34m,\u001b[0m \u001b[0;36m0\u001b[0m\u001b[0;34m]\u001b[0m\u001b[0;34m,\u001b[0m \u001b[0;34m[\u001b[0m\u001b[0mdatetime\u001b[0m\u001b[0;34m.\u001b[0m\u001b[0mdatetime\u001b[0m\u001b[0;34m(\u001b[0m\u001b[0;36m2016\u001b[0m\u001b[0;34m,\u001b[0m \u001b[0;36m1\u001b[0m\u001b[0;34m,\u001b[0m \u001b[0;36m2\u001b[0m\u001b[0;34m,\u001b[0m \u001b[0;36m23\u001b[0m\u001b[0;34m,\u001b[0m \u001b[0;36m0\u001b[0m\u001b[0;34m)\u001b[0m\u001b[0;34m,\u001b[0m \u001b[0;36m0\u001b[0m\u001b[0;34m]\u001b[0m\u001b[0;34m,\u001b[0m \u001b[0;34m[\u001b[0m\u001b[0mdatetime\u001b[0m\u001b[0;34m.\u001b[0m\u001b[0mdatetime\u001b[0m\u001b[0;34m(\u001b[0m\u001b[0;36m2016\u001b[0m\u001b[0;34m,\u001b[0m \u001b[0;36m1\u001b[0m\u001b[0;34m,\u001b[0m \u001b[0;36m3\u001b[0m\u001b[0;34m,\u001b[0m \u001b[0;36m3\u001b[0m\u001b[0;34m,\u001b[0m \u001b[0;36m0\u001b[0m\u001b[0;34m)\u001b[0m\u001b[0;34m,\u001b[0m \u001b[0;36m0\u001b[0m\u001b[0;34m]\u001b[0m\u001b[0;34m,\u001b[0m \u001b[0;34m[\u001b[0m\u001b[0mdatetime\u001b[0m\u001b[0;34m.\u001b[0m\u001b[0mdatetime\u001b[0m\u001b[0;34m(\u001b[0m\u001b[0;36m2016\u001b[0m\u001b[0;34m,\u001b[0m \u001b[0;36m1\u001b[0m\u001b[0;34m,\u001b[0m \u001b[0;36m3\u001b[0m\u001b[0;34m,\u001b[0m \u001b[0;36m7\u001b[0m\u001b[0;34m,\u001b[0m \u001b[0;36m0\u001b[0m\u001b[0;34m)\u001b[0m\u001b[0;34m,\u001b[0m \u001b[0;36m0\u001b[0m\u001b[0;34m]\u001b[0m\u001b[0;34m,\u001b[0m \u001b[0;34m[\u001b[0m\u001b[0mdatetime\u001b[0m\u001b[0;34m.\u001b[0m\u001b[0mdatetime\u001b[0m\u001b[0;34m(\u001b[0m\u001b[0;36m2016\u001b[0m\u001b[0;34m,\u001b[0m \u001b[0;36m1\u001b[0m\u001b[0;34m,\u001b[0m \u001b[0;36m3\u001b[0m\u001b[0;34m,\u001b[0m \u001b[0;36m15\u001b[0m\u001b[0;34m,\u001b[0m \u001b[0;36m0\u001b[0m\u001b[0;34m)\u001b[0m\u001b[0;34m,\u001b[0m \u001b[0;36m0\u001b[0m\u001b[0;34m]\u001b[0m\u001b[0;34m,\u001b[0m \u001b[0;34m[\u001b[0m\u001b[0mdatetime\u001b[0m\u001b[0;34m.\u001b[0m\u001b[0mdatetime\u001b[0m\u001b[0;34m(\u001b[0m\u001b[0;36m2016\u001b[0m\u001b[0;34m,\u001b[0m \u001b[0;36m1\u001b[0m\u001b[0;34m,\u001b[0m \u001b[0;36m3\u001b[0m\u001b[0;34m,\u001b[0m \u001b[0;36m19\u001b[0m\u001b[0;34m,\u001b[0m \u001b[0;36m0\u001b[0m\u001b[0;34m)\u001b[0m\u001b[0;34m,\u001b[0m \u001b[0;36m0\u001b[0m\u001b[0;34m]\u001b[0m\u001b[0;34m,\u001b[0m \u001b[0;34m[\u001b[0m\u001b[0mdatetime\u001b[0m\u001b[0;34m.\u001b[0m\u001b[0mdatetime\u001b[0m\u001b[0;34m(\u001b[0m\u001b[0;36m2016\u001b[0m\u001b[0;34m,\u001b[0m \u001b[0;36m1\u001b[0m\u001b[0;34m,\u001b[0m \u001b[0;36m3\u001b[0m\u001b[0;34m,\u001b[0m \u001b[0;36m23\u001b[0m\u001b[0;34m,\u001b[0m \u001b[0;36m0\u001b[0m\u001b[0;34m)\u001b[0m\u001b[0;34m,\u001b[0m \u001b[0;36m0\u001b[0m\u001b[0;34m]\u001b[0m\u001b[0;34m,\u001b[0m \u001b[0;34m[\u001b[0m\u001b[0mdatetime\u001b[0m\u001b[0;34m.\u001b[0m\u001b[0mdatetime\u001b[0m\u001b[0;34m(\u001b[0m\u001b[0;36m2016\u001b[0m\u001b[0;34m,\u001b[0m \u001b[0;36m1\u001b[0m\u001b[0;34m,\u001b[0m \u001b[0;36m4\u001b[0m\u001b[0;34m,\u001b[0m \u001b[0;36m3\u001b[0m\u001b[0;34m,\u001b[0m \u001b[0;36m0\u001b[0m\u001b[0;34m)\u001b[0m\u001b[0;34m,\u001b[0m \u001b[0;36m0\u001b[0m\u001b[0;34m]\u001b[0m\u001b[0;34m,\u001b[0m \u001b[0;34m[\u001b[0m\u001b[0mdatetime\u001b[0m\u001b[0;34m.\u001b[0m\u001b[0mdatetime\u001b[0m\u001b[0;34m(\u001b[0m\u001b[0;36m2016\u001b[0m\u001b[0;34m,\u001b[0m \u001b[0;36m1\u001b[0m\u001b[0;34m,\u001b[0m \u001b[0;36m4\u001b[0m\u001b[0;34m,\u001b[0m \u001b[0;36m7\u001b[0m\u001b[0;34m,\u001b[0m \u001b[0;36m0\u001b[0m\u001b[0;34m)\u001b[0m\u001b[0;34m,\u001b[0m \u001b[0;36m0\u001b[0m\u001b[0;34m]\u001b[0m\u001b[0;34m,\u001b[0m \u001b[0;34m[\u001b[0m\u001b[0mdatetime\u001b[0m\u001b[0;34m.\u001b[0m\u001b[0mdatetime\u001b[0m\u001b[0;34m(\u001b[0m\u001b[0;36m2016\u001b[0m\u001b[0;34m,\u001b[0m \u001b[0;36m1\u001b[0m\u001b[0;34m,\u001b[0m \u001b[0;36m4\u001b[0m\u001b[0;34m,\u001b[0m \u001b[0;36m11\u001b[0m\u001b[0;34m,\u001b[0m \u001b[0;36m0\u001b[0m\u001b[0;34m)\u001b[0m\u001b[0;34m,\u001b[0m \u001b[0;36m0\u001b[0m\u001b[0;34m]\u001b[0m\u001b[0;34m,\u001b[0m \u001b[0;34m[\u001b[0m\u001b[0mdatetime\u001b[0m\u001b[0;34m.\u001b[0m\u001b[0mdatetime\u001b[0m\u001b[0;34m(\u001b[0m\u001b[0;36m2016\u001b[0m\u001b[0;34m,\u001b[0m \u001b[0;36m1\u001b[0m\u001b[0;34m,\u001b[0m \u001b[0;36m4\u001b[0m\u001b[0;34m,\u001b[0m \u001b[0;36m15\u001b[0m\u001b[0;34m,\u001b[0m \u001b[0;36m0\u001b[0m\u001b[0;34m)\u001b[0m\u001b[0;34m,\u001b[0m \u001b[0;36m0\u001b[0m\u001b[0;34m]\u001b[0m\u001b[0;34m,\u001b[0m \u001b[0;34m[\u001b[0m\u001b[0mdatetime\u001b[0m\u001b[0;34m.\u001b[0m\u001b[0mdatetime\u001b[0m\u001b[0;34m(\u001b[0m\u001b[0;36m2016\u001b[0m\u001b[0;34m,\u001b[0m \u001b[0;36m1\u001b[0m\u001b[0;34m,\u001b[0m \u001b[0;36m4\u001b[0m\u001b[0;34m,\u001b[0m \u001b[0;36m19\u001b[0m\u001b[0;34m,\u001b[0m \u001b[0;36m0\u001b[0m\u001b[0;34m)\u001b[0m\u001b[0;34m,\u001b[0m \u001b[0;36m0\u001b[0m\u001b[0;34m]\u001b[0m\u001b[0;34m,\u001b[0m \u001b[0;34m[\u001b[0m\u001b[0mdatetime\u001b[0m\u001b[0;34m.\u001b[0m\u001b[0mdatetime\u001b[0m\u001b[0;34m(\u001b[0m\u001b[0;36m2016\u001b[0m\u001b[0;34m,\u001b[0m \u001b[0;36m1\u001b[0m\u001b[0;34m,\u001b[0m \u001b[0;36m4\u001b[0m\u001b[0;34m,\u001b[0m \u001b[0;36m23\u001b[0m\u001b[0;34m,\u001b[0m \u001b[0;36m0\u001b[0m\u001b[0;34m)\u001b[0m\u001b[0;34m,\u001b[0m \u001b[0;36m0\u001b[0m\u001b[0;34m]\u001b[0m\u001b[0;34m,\u001b[0m \u001b[0;34m[\u001b[0m\u001b[0mdatetime\u001b[0m\u001b[0;34m.\u001b[0m\u001b[0mdatetime\u001b[0m\u001b[0;34m(\u001b[0m\u001b[0;36m2016\u001b[0m\u001b[0;34m,\u001b[0m \u001b[0;36m1\u001b[0m\u001b[0;34m,\u001b[0m \u001b[0;36m5\u001b[0m\u001b[0;34m,\u001b[0m \u001b[0;36m3\u001b[0m\u001b[0;34m,\u001b[0m \u001b[0;36m0\u001b[0m\u001b[0;34m)\u001b[0m\u001b[0;34m,\u001b[0m \u001b[0;36m0\u001b[0m\u001b[0;34m]\u001b[0m\u001b[0;34m,\u001b[0m \u001b[0;34m[\u001b[0m\u001b[0mdatetime\u001b[0m\u001b[0;34m.\u001b[0m\u001b[0mdatetime\u001b[0m\u001b[0;34m(\u001b[0m\u001b[0;36m2016\u001b[0m\u001b[0;34m,\u001b[0m \u001b[0;36m1\u001b[0m\u001b[0;34m,\u001b[0m \u001b[0;36m5\u001b[0m\u001b[0;34m,\u001b[0m \u001b[0;36m7\u001b[0m\u001b[0;34m,\u001b[0m \u001b[0;36m0\u001b[0m\u001b[0;34m)\u001b[0m\u001b[0;34m,\u001b[0m \u001b[0;36m0\u001b[0m\u001b[0;34m]\u001b[0m\u001b[0;34m,\u001b[0m \u001b[0;34m[\u001b[0m\u001b[0mdatetime\u001b[0m\u001b[0;34m.\u001b[0m\u001b[0mdatetime\u001b[0m\u001b[0;34m(\u001b[0m\u001b[0;36m2016\u001b[0m\u001b[0;34m,\u001b[0m \u001b[0;36m1\u001b[0m\u001b[0;34m,\u001b[0m \u001b[0;36m5\u001b[0m\u001b[0;34m,\u001b[0m \u001b[0;36m11\u001b[0m\u001b[0;34m,\u001b[0m \u001b[0;36m0\u001b[0m\u001b[0;34m)\u001b[0m\u001b[0;34m,\u001b[0m \u001b[0;36m0\u001b[0m\u001b[0;34m]\u001b[0m\u001b[0;34m,\u001b[0m \u001b[0;34m[\u001b[0m\u001b[0mdatetime\u001b[0m\u001b[0;34m.\u001b[0m\u001b[0mdatetime\u001b[0m\u001b[0;34m(\u001b[0m\u001b[0;36m2016\u001b[0m\u001b[0;34m,\u001b[0m \u001b[0;36m1\u001b[0m\u001b[0;34m,\u001b[0m \u001b[0;36m5\u001b[0m\u001b[0;34m,\u001b[0m \u001b[0;36m15\u001b[0m\u001b[0;34m,\u001b[0m \u001b[0;36m0\u001b[0m\u001b[0;34m)\u001b[0m\u001b[0;34m,\u001b[0m \u001b[0;36m0\u001b[0m\u001b[0;34m]\u001b[0m\u001b[0;34m,\u001b[0m \u001b[0;34m[\u001b[0m\u001b[0mdatetime\u001b[0m\u001b[0;34m.\u001b[0m\u001b[0mdatetime\u001b[0m\u001b[0;34m(\u001b[0m\u001b[0;36m2016\u001b[0m\u001b[0;34m,\u001b[0m \u001b[0;36m1\u001b[0m\u001b[0;34m,\u001b[0m \u001b[0;36m5\u001b[0m\u001b[0;34m,\u001b[0m \u001b[0;36m19\u001b[0m\u001b[0;34m,\u001b[0m \u001b[0;36m0\u001b[0m\u001b[0;34m)\u001b[0m\u001b[0;34m,\u001b[0m \u001b[0;36m0\u001b[0m\u001b[0;34m]\u001b[0m\u001b[0;34m,\u001b[0m \u001b[0;34m[\u001b[0m\u001b[0mdatetime\u001b[0m\u001b[0;34m.\u001b[0m\u001b[0mdatetime\u001b[0m\u001b[0;34m(\u001b[0m\u001b[0;36m2016\u001b[0m\u001b[0;34m,\u001b[0m \u001b[0;36m1\u001b[0m\u001b[0;34m,\u001b[0m \u001b[0;36m5\u001b[0m\u001b[0;34m,\u001b[0m \u001b[0;36m23\u001b[0m\u001b[0;34m,\u001b[0m \u001b[0;36m0\u001b[0m\u001b[0;34m)\u001b[0m\u001b[0;34m,\u001b[0m \u001b[0;36m0\u001b[0m\u001b[0;34m]\u001b[0m\u001b[0;34m,\u001b[0m \u001b[0;34m[\u001b[0m\u001b[0mdatetime\u001b[0m\u001b[0;34m.\u001b[0m\u001b[0mdatetime\u001b[0m\u001b[0;34m(\u001b[0m\u001b[0;36m2016\u001b[0m\u001b[0;34m,\u001b[0m \u001b[0;36m1\u001b[0m\u001b[0;34m,\u001b[0m \u001b[0;36m6\u001b[0m\u001b[0;34m,\u001b[0m \u001b[0;36m3\u001b[0m\u001b[0;34m,\u001b[0m \u001b[0;36m0\u001b[0m\u001b[0;34m)\u001b[0m\u001b[0;34m,\u001b[0m \u001b[0;36m0\u001b[0m\u001b[0;34m]\u001b[0m\u001b[0;34m,\u001b[0m \u001b[0;34m[\u001b[0m\u001b[0mdatetime\u001b[0m\u001b[0;34m.\u001b[0m\u001b[0mdatetime\u001b[0m\u001b[0;34m(\u001b[0m\u001b[0;36m2016\u001b[0m\u001b[0;34m,\u001b[0m \u001b[0;36m1\u001b[0m\u001b[0;34m,\u001b[0m \u001b[0;36m6\u001b[0m\u001b[0;34m,\u001b[0m \u001b[0;36m7\u001b[0m\u001b[0;34m,\u001b[0m \u001b[0;36m0\u001b[0m\u001b[0;34m)\u001b[0m\u001b[0;34m,\u001b[0m \u001b[0;36m0\u001b[0m\u001b[0;34m]\u001b[0m\u001b[0;34m,\u001b[0m \u001b[0;34m[\u001b[0m\u001b[0mdatetime\u001b[0m\u001b[0;34m.\u001b[0m\u001b[0mdatetime\u001b[0m\u001b[0;34m(\u001b[0m\u001b[0;36m2016\u001b[0m\u001b[0;34m,\u001b[0m \u001b[0;36m1\u001b[0m\u001b[0;34m,\u001b[0m \u001b[0;36m6\u001b[0m\u001b[0;34m,\u001b[0m \u001b[0;36m11\u001b[0m\u001b[0;34m,\u001b[0m \u001b[0;36m0\u001b[0m\u001b[0;34m)\u001b[0m\u001b[0;34m,\u001b[0m \u001b[0;36m0\u001b[0m\u001b[0;34m]\u001b[0m\u001b[0;34m,\u001b[0m \u001b[0;34m[\u001b[0m\u001b[0mdatetime\u001b[0m\u001b[0;34m.\u001b[0m\u001b[0mdatetime\u001b[0m\u001b[0;34m(\u001b[0m\u001b[0;36m2016\u001b[0m\u001b[0;34m,\u001b[0m \u001b[0;36m1\u001b[0m\u001b[0;34m,\u001b[0m \u001b[0;36m6\u001b[0m\u001b[0;34m,\u001b[0m \u001b[0;36m15\u001b[0m\u001b[0;34m,\u001b[0m \u001b[0;36m0\u001b[0m\u001b[0;34m)\u001b[0m\u001b[0;34m,\u001b[0m \u001b[0;36m0\u001b[0m\u001b[0;34m]\u001b[0m\u001b[0;34m,\u001b[0m \u001b[0;34m[\u001b[0m\u001b[0mdatetime\u001b[0m\u001b[0;34m.\u001b[0m\u001b[0mdatetime\u001b[0m\u001b[0;34m(\u001b[0m\u001b[0;36m2016\u001b[0m\u001b[0;34m,\u001b[0m \u001b[0;36m1\u001b[0m\u001b[0;34m,\u001b[0m \u001b[0;36m6\u001b[0m\u001b[0;34m,\u001b[0m \u001b[0;36m19\u001b[0m\u001b[0;34m,\u001b[0m \u001b[0;36m0\u001b[0m\u001b[0;34m)\u001b[0m\u001b[0;34m,\u001b[0m \u001b[0;36m0\u001b[0m\u001b[0;34m]\u001b[0m\u001b[0;34m,\u001b[0m \u001b[0;34m[\u001b[0m\u001b[0mdatetime\u001b[0m\u001b[0;34m.\u001b[0m\u001b[0mdatetime\u001b[0m\u001b[0;34m(\u001b[0m\u001b[0;36m2016\u001b[0m\u001b[0;34m,\u001b[0m \u001b[0;36m1\u001b[0m\u001b[0;34m,\u001b[0m \u001b[0;36m6\u001b[0m\u001b[0;34m,\u001b[0m \u001b[0;36m23\u001b[0m\u001b[0;34m,\u001b[0m \u001b[0;36m0\u001b[0m\u001b[0;34m)\u001b[0m\u001b[0;34m,\u001b[0m \u001b[0;36m0\u001b[0m\u001b[0;34m]\u001b[0m\u001b[0;34m,\u001b[0m \u001b[0;34m[\u001b[0m\u001b[0mdatetime\u001b[0m\u001b[0;34m.\u001b[0m\u001b[0mdatetime\u001b[0m\u001b[0;34m(\u001b[0m\u001b[0;36m2016\u001b[0m\u001b[0;34m,\u001b[0m \u001b[0;36m1\u001b[0m\u001b[0;34m,\u001b[0m \u001b[0;36m7\u001b[0m\u001b[0;34m,\u001b[0m \u001b[0;36m3\u001b[0m\u001b[0;34m,\u001b[0m \u001b[0;36m0\u001b[0m\u001b[0;34m)\u001b[0m\u001b[0;34m,\u001b[0m \u001b[0;36m0\u001b[0m\u001b[0;34m]\u001b[0m\u001b[0;34m,\u001b[0m \u001b[0;34m[\u001b[0m\u001b[0mdatetime\u001b[0m\u001b[0;34m.\u001b[0m\u001b[0mdatetime\u001b[0m\u001b[0;34m(\u001b[0m\u001b[0;36m2016\u001b[0m\u001b[0;34m,\u001b[0m \u001b[0;36m1\u001b[0m\u001b[0;34m,\u001b[0m \u001b[0;36m7\u001b[0m\u001b[0;34m,\u001b[0m \u001b[0;36m7\u001b[0m\u001b[0;34m,\u001b[0m \u001b[0;36m0\u001b[0m\u001b[0;34m)\u001b[0m\u001b[0;34m,\u001b[0m \u001b[0;36m0\u001b[0m\u001b[0;34m]\u001b[0m\u001b[0;34m,\u001b[0m \u001b[0;34m[\u001b[0m\u001b[0mdatetime\u001b[0m\u001b[0;34m.\u001b[0m\u001b[0mdatetime\u001b[0m\u001b[0;34m(\u001b[0m\u001b[0;36m2016\u001b[0m\u001b[0;34m,\u001b[0m \u001b[0;36m1\u001b[0m\u001b[0;34m,\u001b[0m \u001b[0;36m7\u001b[0m\u001b[0;34m,\u001b[0m \u001b[0;36m11\u001b[0m\u001b[0;34m,\u001b[0m \u001b[0;36m0\u001b[0m\u001b[0;34m)\u001b[0m\u001b[0;34m,\u001b[0m \u001b[0;36m0\u001b[0m\u001b[0;34m]\u001b[0m\u001b[0;34m,\u001b[0m \u001b[0;34m[\u001b[0m\u001b[0mdatetime\u001b[0m\u001b[0;34m.\u001b[0m\u001b[0mdatetime\u001b[0m\u001b[0;34m(\u001b[0m\u001b[0;36m2016\u001b[0m\u001b[0;34m,\u001b[0m \u001b[0;36m1\u001b[0m\u001b[0;34m,\u001b[0m \u001b[0;36m7\u001b[0m\u001b[0;34m,\u001b[0m \u001b[0;36m15\u001b[0m\u001b[0;34m,\u001b[0m \u001b[0;36m0\u001b[0m\u001b[0;34m)\u001b[0m\u001b[0;34m,\u001b[0m \u001b[0;36m0\u001b[0m\u001b[0;34m]\u001b[0m\u001b[0;34m,\u001b[0m \u001b[0;34m[\u001b[0m\u001b[0mdatetime\u001b[0m\u001b[0;34m.\u001b[0m\u001b[0mdatetime\u001b[0m\u001b[0;34m(\u001b[0m\u001b[0;36m2016\u001b[0m\u001b[0;34m,\u001b[0m \u001b[0;36m1\u001b[0m\u001b[0;34m,\u001b[0m \u001b[0;36m7\u001b[0m\u001b[0;34m,\u001b[0m \u001b[0;36m19\u001b[0m\u001b[0;34m,\u001b[0m \u001b[0;36m0\u001b[0m\u001b[0;34m)\u001b[0m\u001b[0;34m,\u001b[0m \u001b[0;36m0\u001b[0m\u001b[0;34m]\u001b[0m\u001b[0;34m,\u001b[0m \u001b[0;34m[\u001b[0m\u001b[0mdatetime\u001b[0m\u001b[0;34m.\u001b[0m\u001b[0mdatetime\u001b[0m\u001b[0;34m(\u001b[0m\u001b[0;36m2016\u001b[0m\u001b[0;34m,\u001b[0m \u001b[0;36m1\u001b[0m\u001b[0;34m,\u001b[0m \u001b[0;36m7\u001b[0m\u001b[0;34m,\u001b[0m \u001b[0;36m23\u001b[0m\u001b[0;34m,\u001b[0m \u001b[0;36m0\u001b[0m\u001b[0;34m)\u001b[0m\u001b[0;34m,\u001b[0m \u001b[0;36m0\u001b[0m\u001b[0;34m]\u001b[0m\u001b[0;34m,\u001b[0m \u001b[0;34m[\u001b[0m\u001b[0mdatetime\u001b[0m\u001b[0;34m.\u001b[0m\u001b[0mdatetime\u001b[0m\u001b[0;34m(\u001b[0m\u001b[0;36m2016\u001b[0m\u001b[0;34m,\u001b[0m \u001b[0;36m1\u001b[0m\u001b[0;34m,\u001b[0m \u001b[0;36m8\u001b[0m\u001b[0;34m,\u001b[0m \u001b[0;36m3\u001b[0m\u001b[0;34m,\u001b[0m \u001b[0;36m0\u001b[0m\u001b[0;34m)\u001b[0m\u001b[0;34m,\u001b[0m \u001b[0;36m0\u001b[0m\u001b[0;34m]\u001b[0m\u001b[0;34m,\u001b[0m \u001b[0;34m[\u001b[0m\u001b[0mdatetime\u001b[0m\u001b[0;34m.\u001b[0m\u001b[0mdatetime\u001b[0m\u001b[0;34m(\u001b[0m\u001b[0;36m2016\u001b[0m\u001b[0;34m,\u001b[0m \u001b[0;36m1\u001b[0m\u001b[0;34m,\u001b[0m \u001b[0;36m8\u001b[0m\u001b[0;34m,\u001b[0m \u001b[0;36m7\u001b[0m\u001b[0;34m,\u001b[0m \u001b[0;36m0\u001b[0m\u001b[0;34m)\u001b[0m\u001b[0;34m,\u001b[0m \u001b[0;36m0\u001b[0m\u001b[0;34m]\u001b[0m\u001b[0;34m,\u001b[0m \u001b[0;34m[\u001b[0m\u001b[0mdatetime\u001b[0m\u001b[0;34m.\u001b[0m\u001b[0mdatetime\u001b[0m\u001b[0;34m(\u001b[0m\u001b[0;36m2016\u001b[0m\u001b[0;34m,\u001b[0m \u001b[0;36m1\u001b[0m\u001b[0;34m,\u001b[0m \u001b[0;36m8\u001b[0m\u001b[0;34m,\u001b[0m \u001b[0;36m11\u001b[0m\u001b[0;34m,\u001b[0m \u001b[0;36m0\u001b[0m\u001b[0;34m)\u001b[0m\u001b[0;34m,\u001b[0m \u001b[0;36m0\u001b[0m\u001b[0;34m]\u001b[0m\u001b[0;34m,\u001b[0m \u001b[0;34m[\u001b[0m\u001b[0mdatetime\u001b[0m\u001b[0;34m.\u001b[0m\u001b[0mdatetime\u001b[0m\u001b[0;34m(\u001b[0m\u001b[0;36m2016\u001b[0m\u001b[0;34m,\u001b[0m \u001b[0;36m1\u001b[0m\u001b[0;34m,\u001b[0m \u001b[0;36m8\u001b[0m\u001b[0;34m,\u001b[0m \u001b[0;36m15\u001b[0m\u001b[0;34m,\u001b[0m \u001b[0;36m0\u001b[0m\u001b[0;34m)\u001b[0m\u001b[0;34m,\u001b[0m \u001b[0;36m0\u001b[0m\u001b[0;34m]\u001b[0m\u001b[0;34m,\u001b[0m \u001b[0;34m[\u001b[0m\u001b[0mdatetime\u001b[0m\u001b[0;34m.\u001b[0m\u001b[0mdatetime\u001b[0m\u001b[0;34m(\u001b[0m\u001b[0;36m2016\u001b[0m\u001b[0;34m,\u001b[0m \u001b[0;36m1\u001b[0m\u001b[0;34m,\u001b[0m \u001b[0;36m8\u001b[0m\u001b[0;34m,\u001b[0m \u001b[0;36m19\u001b[0m\u001b[0;34m,\u001b[0m \u001b[0;36m0\u001b[0m\u001b[0;34m)\u001b[0m\u001b[0;34m,\u001b[0m \u001b[0;36m0\u001b[0m\u001b[0;34m]\u001b[0m\u001b[0;34m,\u001b[0m \u001b[0;34m[\u001b[0m\u001b[0mdatetime\u001b[0m\u001b[0;34m.\u001b[0m\u001b[0mdatetime\u001b[0m\u001b[0;34m(\u001b[0m\u001b[0;36m2016\u001b[0m\u001b[0;34m,\u001b[0m \u001b[0;36m1\u001b[0m\u001b[0;34m,\u001b[0m \u001b[0;36m8\u001b[0m\u001b[0;34m,\u001b[0m \u001b[0;36m23\u001b[0m\u001b[0;34m,\u001b[0m \u001b[0;36m0\u001b[0m\u001b[0;34m)\u001b[0m\u001b[0;34m,\u001b[0m \u001b[0;36m0\u001b[0m\u001b[0;34m]\u001b[0m\u001b[0;34m]\u001b[0m\u001b[0;34m\u001b[0m\u001b[0m\n\u001b[0m\u001b[1;32m      2\u001b[0m \u001b[0mlen\u001b[0m\u001b[0;34m(\u001b[0m\u001b[0mb\u001b[0m\u001b[0;34m)\u001b[0m\u001b[0;34m\u001b[0m\u001b[0m\n",
      "\u001b[0;31mAttributeError\u001b[0m: type object 'datetime.datetime' has no attribute 'datetime'"
     ]
    }
   ],
   "source": [
    "b = [[datetime.datetime(2016, 1, 2, 3, 0), 0], [datetime.datetime(2016, 1, 2, 7, 0), 0], [datetime.datetime(2016, 1, 2, 11, 0), 0], [datetime.datetime(2016, 1, 2, 15, 0), 0], [datetime.datetime(2016, 1, 2, 19, 0), 0], [datetime.datetime(2016, 1, 2, 23, 0), 0], [datetime.datetime(2016, 1, 3, 3, 0), 0], [datetime.datetime(2016, 1, 3, 7, 0), 0], [datetime.datetime(2016, 1, 3, 15, 0), 0], [datetime.datetime(2016, 1, 3, 19, 0), 0], [datetime.datetime(2016, 1, 3, 23, 0), 0], [datetime.datetime(2016, 1, 4, 3, 0), 0], [datetime.datetime(2016, 1, 4, 7, 0), 0], [datetime.datetime(2016, 1, 4, 11, 0), 0], [datetime.datetime(2016, 1, 4, 15, 0), 0], [datetime.datetime(2016, 1, 4, 19, 0), 0], [datetime.datetime(2016, 1, 4, 23, 0), 0], [datetime.datetime(2016, 1, 5, 3, 0), 0], [datetime.datetime(2016, 1, 5, 7, 0), 0], [datetime.datetime(2016, 1, 5, 11, 0), 0], [datetime.datetime(2016, 1, 5, 15, 0), 0], [datetime.datetime(2016, 1, 5, 19, 0), 0], [datetime.datetime(2016, 1, 5, 23, 0), 0], [datetime.datetime(2016, 1, 6, 3, 0), 0], [datetime.datetime(2016, 1, 6, 7, 0), 0], [datetime.datetime(2016, 1, 6, 11, 0), 0], [datetime.datetime(2016, 1, 6, 15, 0), 0], [datetime.datetime(2016, 1, 6, 19, 0), 0], [datetime.datetime(2016, 1, 6, 23, 0), 0], [datetime.datetime(2016, 1, 7, 3, 0), 0], [datetime.datetime(2016, 1, 7, 7, 0), 0], [datetime.datetime(2016, 1, 7, 11, 0), 0], [datetime.datetime(2016, 1, 7, 15, 0), 0], [datetime.datetime(2016, 1, 7, 19, 0), 0], [datetime.datetime(2016, 1, 7, 23, 0), 0], [datetime.datetime(2016, 1, 8, 3, 0), 0], [datetime.datetime(2016, 1, 8, 7, 0), 0], [datetime.datetime(2016, 1, 8, 11, 0), 0], [datetime.datetime(2016, 1, 8, 15, 0), 0], [datetime.datetime(2016, 1, 8, 19, 0), 0], [datetime.datetime(2016, 1, 8, 23, 0), 0]]\n",
    "len(b)"
   ]
  },
  {
   "cell_type": "code",
   "execution_count": null,
   "metadata": {
    "collapsed": true
   },
   "outputs": [],
   "source": [
    "\n",
    "\n",
    "# !head -1000 turnstile_160109.txt > turnstile_160109_test.txt\n",
    "# from datetime import datetime, date, time\n",
    "# date_object = datetime.strptime('01/07/2016 08:00:00', '%m/%d/%Y %I:%M:%S')\n",
    "# fname = open('turnstile_160109_test.txt')\n",
    "\n",
    "# #challenge 1\n",
    "# # d = dict()\n",
    "# # for i, line in enumerate(fname):\n",
    "# #     if i > 0:\n",
    "# #         t = tuple(line.split(',')[0:4])\n",
    "# #         if t in d.keys():\n",
    "# #             last = line.split(',')[1].lstrip()\n",
    "# #             d[t].append(line.split(',')[5:12])\n",
    "# #         else:\n",
    "# #             d[t]=[line.split(',')[5:12]]\n",
    "\n",
    "# #challenge 2\n",
    "# nd = dict()\n",
    "# for i, line in enumerate(fname):\n",
    "#     if i > 0:\n",
    "#         t = tuple(line.split(',')[0:4])\n",
    "#         date_and_time = \" \".join(line.split(',')[6:8])\n",
    "#         date_object = datetime.strptime(date_and_time, '%m/%d/%Y %H:%M:%S')\n",
    "#         entry_count = int(line.split(',')[10])\n",
    "#         if t in nd.keys():\n",
    "#             nd[t].append([date_object,entry_count])\n",
    "#         else:\n",
    "#             nd[t]=[[date_object,entry_count]]\n",
    "\n",
    "# #challenge 3\n",
    "# dnd = dict()\n",
    "# newdict = dict()\n",
    "# for k,v in nd.items():\n",
    "#     td = dict()\n",
    "#     for i,data in enumerate(v):\n",
    "#         te= data[0]\n",
    "#         ve= data[1]\n",
    "#         if te in td.keys():\n",
    "#             td[te].append(ve)\n",
    "#         else:\n",
    "#             td[te]=[ve]\n",
    "#     narr = []\n",
    "#     for i,val in enumerate(td.items()):\n",
    "#         key = val[0].day\n",
    "# #         print(val[0])\n",
    "#         value = val[1]\n",
    "#         if i != 6 and len(value) == 6:\n",
    "#             narr.append(-value[0]+td.items()[i+1][1][0])\n",
    "#         if i == 6:\n",
    "#             narr.append(-value[0]+value[len(value)-1])\n",
    "#     print narr\n",
    "#     newdict[k] = tuple([datetime.time(v[0][0]), narr])\n",
    "# # print newdict       \n",
    "\n",
    "\n"
   ]
  },
  {
   "cell_type": "code",
   "execution_count": 319,
   "metadata": {
    "collapsed": false
   },
   "outputs": [
    {
     "name": "stdout",
     "output_type": "stream",
     "text": [
      "[datetime.date(2016, 1, 2), datetime.date(2016, 1, 2), datetime.date(2016, 1, 2), datetime.date(2016, 1, 2), datetime.date(2016, 1, 2), datetime.date(2016, 1, 2), datetime.date(2016, 1, 3), datetime.date(2016, 1, 3), datetime.date(2016, 1, 3), datetime.date(2016, 1, 3), datetime.date(2016, 1, 3), datetime.date(2016, 1, 3), datetime.date(2016, 1, 4), datetime.date(2016, 1, 4), datetime.date(2016, 1, 4), datetime.date(2016, 1, 4), datetime.date(2016, 1, 4), datetime.date(2016, 1, 4), datetime.date(2016, 1, 5), datetime.date(2016, 1, 5), datetime.date(2016, 1, 5), datetime.date(2016, 1, 5), datetime.date(2016, 1, 5), datetime.date(2016, 1, 5), datetime.date(2016, 1, 6), datetime.date(2016, 1, 6), datetime.date(2016, 1, 6), datetime.date(2016, 1, 6), datetime.date(2016, 1, 6), datetime.date(2016, 1, 6), datetime.date(2016, 1, 7), datetime.date(2016, 1, 7), datetime.date(2016, 1, 7), datetime.date(2016, 1, 7), datetime.date(2016, 1, 7), datetime.date(2016, 1, 7), datetime.date(2016, 1, 8), datetime.date(2016, 1, 8), datetime.date(2016, 1, 8), datetime.date(2016, 1, 8), datetime.date(2016, 1, 8), datetime.date(2016, 1, 8)]\n"
     ]
    }
   ],
   "source": [
    " \n",
    "# !head -1000 turnstile_160109.txt > turnstile_160109_test.txt\n",
    "# from datetime import datetime, date, time\n",
    "# fname = open('turnstile_160109_test.txt')\n",
    "# #challenge 2\n",
    "# nd = dict()\n",
    "# for i, line in enumerate(fname):\n",
    "#     if i > 0:\n",
    "#         t = tuple(line.split(',')[0:4])\n",
    "#         date_and_time = \" \".join(line.split(',')[6:8])\n",
    "#         date_object = datetime.strptime(date_and_time, '%m/%d/%Y %H:%M:%S')\n",
    "#         entry_count = int(line.split(',')[10])\n",
    "#         if t in nd.keys():\n",
    "#             nd[t].append([date_object,entry_count])\n",
    "#         else:\n",
    "#             nd[t]=[[date_object,entry_count]]\n",
    "\n",
    "# #challenge 3\n",
    "# dnd = dict()\n",
    "# newdict = dict()\n",
    "# for k,v in nd.items():\n",
    "#     td = dict()\n",
    "#     for i,data in enumerate(v):\n",
    "# #         te= data[0]\n",
    "#         te= data[0].day\n",
    "#         ve= data[1]\n",
    "#         if te in td.keys():\n",
    "#            td[te].append(ve)\n",
    "#         else:\n",
    "#             td[te]=[ve]\n",
    "#     narr = []\n",
    "#     for i,val in enumerate(td.items()):\n",
    "# #         print val\n",
    "#         key = val[0]\n",
    "#         value = val[1]\n",
    "# #         print(len(value))\n",
    "#         if i != 6 and len(value) == 6:\n",
    "# #             print(-value[0]+td.items()[i+1][1][0])\n",
    "#             narr.append(-value[0]+td.items()[i+1][1][0])\n",
    "#         if i == 6:\n",
    "# #             print(-value[0]+value[len(value)-1])\n",
    "#             narr.append(-value[0]+value[len(value)-1])\n",
    "# #     print narr\n",
    "#     newdict[k] = narr\n",
    "#     for k,v in nd.items():\n",
    "#         print(v[0])\n",
    "# # print(newdict)\n",
    "# #     print(td)\n",
    "for k,v in nd.items()[1:2]:\n",
    "    temp = []\n",
    "    for line in v:\n",
    "        test = datetime.date(line[0])\n",
    "        temp.append(test)\n",
    "    print temp\n",
    "    \n",
    "# #     print(v[0])\n",
    "# #     for i in range(0,len(v),6):\n",
    "# #         print(v(i))\n",
    "# #         arr.append(v[i:i+6][5][1] - v[i:i+6][0][1])\n",
    "# #         dnd[k] = arr\n",
    "# # #     print(arr)"
   ]
  },
  {
   "cell_type": "code",
   "execution_count": null,
   "metadata": {
    "collapsed": true
   },
   "outputs": [],
   "source": []
  }
 ],
 "metadata": {
  "kernelspec": {
   "display_name": "Python 2",
   "language": "python",
   "name": "python2"
  },
  "language_info": {
   "codemirror_mode": {
    "name": "ipython",
    "version": 2
   },
   "file_extension": ".py",
   "mimetype": "text/x-python",
   "name": "python",
   "nbconvert_exporter": "python",
   "pygments_lexer": "ipython2",
   "version": "2.7.11"
  }
 },
 "nbformat": 4,
 "nbformat_minor": 0
}
